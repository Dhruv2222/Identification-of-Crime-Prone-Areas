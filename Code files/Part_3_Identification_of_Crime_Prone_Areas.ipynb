{
  "nbformat": 4,
  "nbformat_minor": 0,
  "metadata": {
    "colab": {
      "provenance": [],
      "collapsed_sections": [
        "fZG52KUJchz-"
      ]
    },
    "kernelspec": {
      "name": "python3",
      "display_name": "Python 3"
    },
    "language_info": {
      "name": "python"
    }
  },
  "cells": [
    {
      "cell_type": "markdown",
      "source": [
        "# **Identification of Crime Prone Areas**\n",
        "\n",
        "**Group ID:** 16\n",
        "\n",
        "**Group Guides:**\n",
        "\n",
        "Dr.Irfan Siddavatam\n",
        "\n",
        "\n",
        "\n",
        "**Group Members:**\n",
        "\n",
        "1814002 - Dhruv Doshi\n",
        "\n",
        "1814006 - Shubham Bhakuni\n",
        "\n",
        "1814015 - Labdhi Jain\n",
        "\n",
        "1814021 - Kunj Gala\n",
        "\n",
        "\n",
        "**Dataset to be used:** NYPD Dataset (5 Million plus rows, 19 columns)\n",
        "\n",
        "**Objectives for demonstration:**\n",
        "\n",
        "\n",
        "1. Data Preprocessing\n",
        "\n",
        "\n",
        "*   Data Cleaning\n",
        "*   Data Reduction\n",
        "*   Data Integration\n",
        "*   Data Conversion\n",
        "*   Data Sampling\n",
        "*   Creating Dummy Variables (one-Hot Encoding)\n",
        "\n",
        "2. Data Visualization\n"
      ],
      "metadata": {
        "id": "dzpc0A3FKm2X"
      }
    },
    {
      "cell_type": "code",
      "source": [
        "import pandas as pd\n",
        "!pip install -U -q PyDrive\n",
        "from pydrive.auth import GoogleAuth\n",
        "from pydrive.drive import GoogleDrive\n",
        "from google.colab import auth\n",
        "from oauth2client.client import GoogleCredentials\n",
        "auth.authenticate_user()\n",
        "gauth = GoogleAuth()\n",
        "gauth.credentials = GoogleCredentials.get_application_default()\n",
        "drive = GoogleDrive(gauth)\n",
        "link = 'https://drive.google.com/file/d/1xBh3YytbtrOEo2bqMmqe_XncHWtY6aqI/view?usp=sharing'\n",
        "\n",
        "id = link.split(\"/\")[-2]\n",
        "\n",
        "downloaded = drive.CreateFile({'id':id})\n",
        "downloaded.GetContentFile('df_after_preprocessing2.csv')\n",
        "\n",
        "df = pd.read_csv('df_after_preprocessing2.csv')"
      ],
      "metadata": {
        "id": "UEUcrK24KoKt"
      },
      "execution_count": null,
      "outputs": []
    },
    {
      "cell_type": "code",
      "source": [
        "df.columns"
      ],
      "metadata": {
        "id": "SyFRidD6LCAV",
        "colab": {
          "base_uri": "https://localhost:8080/"
        },
        "outputId": "efcb0f45-d81c-483e-d828-29ca2f9abc0e"
      },
      "execution_count": null,
      "outputs": [
        {
          "output_type": "execute_result",
          "data": {
            "text/plain": [
              "Index(['Unnamed: 0', 'CAD_EVNT_ID', 'NYPD_PCT_CD', 'RADIO_CODE', 'ADD_TS',\n",
              "       'DISP_TS', 'ARRIVD_TS', 'CLOSNG_TS', 'Latitude', 'Longitude',\n",
              "       'INCIDENT_DATE_TIME', 'PATRL_BORO_NM_PATROL BORO BKLYN NORTH',\n",
              "       'PATRL_BORO_NM_PATROL BORO BKLYN SOUTH',\n",
              "       'PATRL_BORO_NM_PATROL BORO BRONX',\n",
              "       'PATRL_BORO_NM_PATROL BORO MAN NORTH',\n",
              "       'PATRL_BORO_NM_PATROL BORO MAN SOUTH',\n",
              "       'PATRL_BORO_NM_PATROL BORO QUEENS NORTH',\n",
              "       'PATRL_BORO_NM_PATROL BORO QUEENS SOUTH',\n",
              "       'PATRL_BORO_NM_PATROL BORO STATEN ISLAND', 'CIP_JOBS_Critical',\n",
              "       'CIP_JOBS_Non CIP', 'CIP_JOBS_Non Critical', 'CIP_JOBS_Serious'],\n",
              "      dtype='object')"
            ]
          },
          "metadata": {},
          "execution_count": 2
        }
      ]
    },
    {
      "cell_type": "code",
      "source": [
        "df.drop('Unnamed: 0', axis=1, inplace=True)"
      ],
      "metadata": {
        "id": "XAX-qdViLUke"
      },
      "execution_count": null,
      "outputs": []
    },
    {
      "cell_type": "code",
      "source": [
        "df.head()"
      ],
      "metadata": {
        "id": "CqRLpJztL-tk",
        "colab": {
          "base_uri": "https://localhost:8080/",
          "height": 490
        },
        "outputId": "9b39ab15-c581-4bdc-a987-7d10bee58249"
      },
      "execution_count": null,
      "outputs": [
        {
          "output_type": "execute_result",
          "data": {
            "text/plain": [
              "   CAD_EVNT_ID  NYPD_PCT_CD RADIO_CODE               ADD_TS  \\\n",
              "0     75781251        105.0       29Q1  2021-03-24 19:49:06   \n",
              "1     79375430         63.0        53D  2021-08-26 12:25:57   \n",
              "2     77407811         23.0       24Q2  2021-06-04 16:24:23   \n",
              "3     76177095        106.0       29H1  2021-04-11 17:19:50   \n",
              "4     79879502        104.0       24Q2  2021-09-17 00:33:16   \n",
              "\n",
              "               DISP_TS            ARRIVD_TS            CLOSNG_TS   Latitude  \\\n",
              "0  2021-03-24 19:51:44  2021-03-24 20:10:33  2021-03-24 20:18:17  40.665504   \n",
              "1  2021-08-26 12:31:54  2021-08-26 12:39:22  2021-08-26 12:45:07  40.625626   \n",
              "2  2021-06-04 16:25:04  2021-06-04 16:28:27  2021-06-04 16:48:01  40.788134   \n",
              "3  2021-04-11 17:20:36  2021-04-11 17:25:07  2021-04-11 17:43:47  40.677098   \n",
              "4  2021-09-17 00:42:37  2021-09-17 01:22:38  2021-09-17 02:02:09  40.707385   \n",
              "\n",
              "   Longitude   INCIDENT_DATE_TIME  ...  PATRL_BORO_NM_PATROL BORO BRONX  \\\n",
              "0 -73.755437  2021-03-24 19:49:06  ...                                0   \n",
              "1 -73.915499  2021-08-26 12:25:56  ...                                0   \n",
              "2 -73.945602  2021-06-04 16:24:23  ...                                0   \n",
              "3 -73.825040  2021-04-11 17:19:50  ...                                0   \n",
              "4 -73.873772  2021-09-17 00:33:16  ...                                0   \n",
              "\n",
              "   PATRL_BORO_NM_PATROL BORO MAN NORTH  PATRL_BORO_NM_PATROL BORO MAN SOUTH  \\\n",
              "0                                    0                                    0   \n",
              "1                                    0                                    0   \n",
              "2                                    1                                    0   \n",
              "3                                    0                                    0   \n",
              "4                                    0                                    0   \n",
              "\n",
              "   PATRL_BORO_NM_PATROL BORO QUEENS NORTH  \\\n",
              "0                                       0   \n",
              "1                                       0   \n",
              "2                                       0   \n",
              "3                                       0   \n",
              "4                                       1   \n",
              "\n",
              "   PATRL_BORO_NM_PATROL BORO QUEENS SOUTH  \\\n",
              "0                                       1   \n",
              "1                                       0   \n",
              "2                                       0   \n",
              "3                                       1   \n",
              "4                                       0   \n",
              "\n",
              "   PATRL_BORO_NM_PATROL BORO STATEN ISLAND  CIP_JOBS_Critical  \\\n",
              "0                                        0                  0   \n",
              "1                                        0                  0   \n",
              "2                                        0                  0   \n",
              "3                                        0                  0   \n",
              "4                                        0                  0   \n",
              "\n",
              "   CIP_JOBS_Non CIP  CIP_JOBS_Non Critical  CIP_JOBS_Serious  \n",
              "0                 0                      1                 0  \n",
              "1                 1                      0                 0  \n",
              "2                 0                      0                 1  \n",
              "3                 0                      1                 0  \n",
              "4                 1                      0                 0  \n",
              "\n",
              "[5 rows x 22 columns]"
            ],
            "text/html": [
              "\n",
              "  <div id=\"df-21528d34-4004-49dc-9649-ba9854a56db9\">\n",
              "    <div class=\"colab-df-container\">\n",
              "      <div>\n",
              "<style scoped>\n",
              "    .dataframe tbody tr th:only-of-type {\n",
              "        vertical-align: middle;\n",
              "    }\n",
              "\n",
              "    .dataframe tbody tr th {\n",
              "        vertical-align: top;\n",
              "    }\n",
              "\n",
              "    .dataframe thead th {\n",
              "        text-align: right;\n",
              "    }\n",
              "</style>\n",
              "<table border=\"1\" class=\"dataframe\">\n",
              "  <thead>\n",
              "    <tr style=\"text-align: right;\">\n",
              "      <th></th>\n",
              "      <th>CAD_EVNT_ID</th>\n",
              "      <th>NYPD_PCT_CD</th>\n",
              "      <th>RADIO_CODE</th>\n",
              "      <th>ADD_TS</th>\n",
              "      <th>DISP_TS</th>\n",
              "      <th>ARRIVD_TS</th>\n",
              "      <th>CLOSNG_TS</th>\n",
              "      <th>Latitude</th>\n",
              "      <th>Longitude</th>\n",
              "      <th>INCIDENT_DATE_TIME</th>\n",
              "      <th>...</th>\n",
              "      <th>PATRL_BORO_NM_PATROL BORO BRONX</th>\n",
              "      <th>PATRL_BORO_NM_PATROL BORO MAN NORTH</th>\n",
              "      <th>PATRL_BORO_NM_PATROL BORO MAN SOUTH</th>\n",
              "      <th>PATRL_BORO_NM_PATROL BORO QUEENS NORTH</th>\n",
              "      <th>PATRL_BORO_NM_PATROL BORO QUEENS SOUTH</th>\n",
              "      <th>PATRL_BORO_NM_PATROL BORO STATEN ISLAND</th>\n",
              "      <th>CIP_JOBS_Critical</th>\n",
              "      <th>CIP_JOBS_Non CIP</th>\n",
              "      <th>CIP_JOBS_Non Critical</th>\n",
              "      <th>CIP_JOBS_Serious</th>\n",
              "    </tr>\n",
              "  </thead>\n",
              "  <tbody>\n",
              "    <tr>\n",
              "      <th>0</th>\n",
              "      <td>75781251</td>\n",
              "      <td>105.0</td>\n",
              "      <td>29Q1</td>\n",
              "      <td>2021-03-24 19:49:06</td>\n",
              "      <td>2021-03-24 19:51:44</td>\n",
              "      <td>2021-03-24 20:10:33</td>\n",
              "      <td>2021-03-24 20:18:17</td>\n",
              "      <td>40.665504</td>\n",
              "      <td>-73.755437</td>\n",
              "      <td>2021-03-24 19:49:06</td>\n",
              "      <td>...</td>\n",
              "      <td>0</td>\n",
              "      <td>0</td>\n",
              "      <td>0</td>\n",
              "      <td>0</td>\n",
              "      <td>1</td>\n",
              "      <td>0</td>\n",
              "      <td>0</td>\n",
              "      <td>0</td>\n",
              "      <td>1</td>\n",
              "      <td>0</td>\n",
              "    </tr>\n",
              "    <tr>\n",
              "      <th>1</th>\n",
              "      <td>79375430</td>\n",
              "      <td>63.0</td>\n",
              "      <td>53D</td>\n",
              "      <td>2021-08-26 12:25:57</td>\n",
              "      <td>2021-08-26 12:31:54</td>\n",
              "      <td>2021-08-26 12:39:22</td>\n",
              "      <td>2021-08-26 12:45:07</td>\n",
              "      <td>40.625626</td>\n",
              "      <td>-73.915499</td>\n",
              "      <td>2021-08-26 12:25:56</td>\n",
              "      <td>...</td>\n",
              "      <td>0</td>\n",
              "      <td>0</td>\n",
              "      <td>0</td>\n",
              "      <td>0</td>\n",
              "      <td>0</td>\n",
              "      <td>0</td>\n",
              "      <td>0</td>\n",
              "      <td>1</td>\n",
              "      <td>0</td>\n",
              "      <td>0</td>\n",
              "    </tr>\n",
              "    <tr>\n",
              "      <th>2</th>\n",
              "      <td>77407811</td>\n",
              "      <td>23.0</td>\n",
              "      <td>24Q2</td>\n",
              "      <td>2021-06-04 16:24:23</td>\n",
              "      <td>2021-06-04 16:25:04</td>\n",
              "      <td>2021-06-04 16:28:27</td>\n",
              "      <td>2021-06-04 16:48:01</td>\n",
              "      <td>40.788134</td>\n",
              "      <td>-73.945602</td>\n",
              "      <td>2021-06-04 16:24:23</td>\n",
              "      <td>...</td>\n",
              "      <td>0</td>\n",
              "      <td>1</td>\n",
              "      <td>0</td>\n",
              "      <td>0</td>\n",
              "      <td>0</td>\n",
              "      <td>0</td>\n",
              "      <td>0</td>\n",
              "      <td>0</td>\n",
              "      <td>0</td>\n",
              "      <td>1</td>\n",
              "    </tr>\n",
              "    <tr>\n",
              "      <th>3</th>\n",
              "      <td>76177095</td>\n",
              "      <td>106.0</td>\n",
              "      <td>29H1</td>\n",
              "      <td>2021-04-11 17:19:50</td>\n",
              "      <td>2021-04-11 17:20:36</td>\n",
              "      <td>2021-04-11 17:25:07</td>\n",
              "      <td>2021-04-11 17:43:47</td>\n",
              "      <td>40.677098</td>\n",
              "      <td>-73.825040</td>\n",
              "      <td>2021-04-11 17:19:50</td>\n",
              "      <td>...</td>\n",
              "      <td>0</td>\n",
              "      <td>0</td>\n",
              "      <td>0</td>\n",
              "      <td>0</td>\n",
              "      <td>1</td>\n",
              "      <td>0</td>\n",
              "      <td>0</td>\n",
              "      <td>0</td>\n",
              "      <td>1</td>\n",
              "      <td>0</td>\n",
              "    </tr>\n",
              "    <tr>\n",
              "      <th>4</th>\n",
              "      <td>79879502</td>\n",
              "      <td>104.0</td>\n",
              "      <td>24Q2</td>\n",
              "      <td>2021-09-17 00:33:16</td>\n",
              "      <td>2021-09-17 00:42:37</td>\n",
              "      <td>2021-09-17 01:22:38</td>\n",
              "      <td>2021-09-17 02:02:09</td>\n",
              "      <td>40.707385</td>\n",
              "      <td>-73.873772</td>\n",
              "      <td>2021-09-17 00:33:16</td>\n",
              "      <td>...</td>\n",
              "      <td>0</td>\n",
              "      <td>0</td>\n",
              "      <td>0</td>\n",
              "      <td>1</td>\n",
              "      <td>0</td>\n",
              "      <td>0</td>\n",
              "      <td>0</td>\n",
              "      <td>1</td>\n",
              "      <td>0</td>\n",
              "      <td>0</td>\n",
              "    </tr>\n",
              "  </tbody>\n",
              "</table>\n",
              "<p>5 rows × 22 columns</p>\n",
              "</div>\n",
              "      <button class=\"colab-df-convert\" onclick=\"convertToInteractive('df-21528d34-4004-49dc-9649-ba9854a56db9')\"\n",
              "              title=\"Convert this dataframe to an interactive table.\"\n",
              "              style=\"display:none;\">\n",
              "        \n",
              "  <svg xmlns=\"http://www.w3.org/2000/svg\" height=\"24px\"viewBox=\"0 0 24 24\"\n",
              "       width=\"24px\">\n",
              "    <path d=\"M0 0h24v24H0V0z\" fill=\"none\"/>\n",
              "    <path d=\"M18.56 5.44l.94 2.06.94-2.06 2.06-.94-2.06-.94-.94-2.06-.94 2.06-2.06.94zm-11 1L8.5 8.5l.94-2.06 2.06-.94-2.06-.94L8.5 2.5l-.94 2.06-2.06.94zm10 10l.94 2.06.94-2.06 2.06-.94-2.06-.94-.94-2.06-.94 2.06-2.06.94z\"/><path d=\"M17.41 7.96l-1.37-1.37c-.4-.4-.92-.59-1.43-.59-.52 0-1.04.2-1.43.59L10.3 9.45l-7.72 7.72c-.78.78-.78 2.05 0 2.83L4 21.41c.39.39.9.59 1.41.59.51 0 1.02-.2 1.41-.59l7.78-7.78 2.81-2.81c.8-.78.8-2.07 0-2.86zM5.41 20L4 18.59l7.72-7.72 1.47 1.35L5.41 20z\"/>\n",
              "  </svg>\n",
              "      </button>\n",
              "      \n",
              "  <style>\n",
              "    .colab-df-container {\n",
              "      display:flex;\n",
              "      flex-wrap:wrap;\n",
              "      gap: 12px;\n",
              "    }\n",
              "\n",
              "    .colab-df-convert {\n",
              "      background-color: #E8F0FE;\n",
              "      border: none;\n",
              "      border-radius: 50%;\n",
              "      cursor: pointer;\n",
              "      display: none;\n",
              "      fill: #1967D2;\n",
              "      height: 32px;\n",
              "      padding: 0 0 0 0;\n",
              "      width: 32px;\n",
              "    }\n",
              "\n",
              "    .colab-df-convert:hover {\n",
              "      background-color: #E2EBFA;\n",
              "      box-shadow: 0px 1px 2px rgba(60, 64, 67, 0.3), 0px 1px 3px 1px rgba(60, 64, 67, 0.15);\n",
              "      fill: #174EA6;\n",
              "    }\n",
              "\n",
              "    [theme=dark] .colab-df-convert {\n",
              "      background-color: #3B4455;\n",
              "      fill: #D2E3FC;\n",
              "    }\n",
              "\n",
              "    [theme=dark] .colab-df-convert:hover {\n",
              "      background-color: #434B5C;\n",
              "      box-shadow: 0px 1px 3px 1px rgba(0, 0, 0, 0.15);\n",
              "      filter: drop-shadow(0px 1px 2px rgba(0, 0, 0, 0.3));\n",
              "      fill: #FFFFFF;\n",
              "    }\n",
              "  </style>\n",
              "\n",
              "      <script>\n",
              "        const buttonEl =\n",
              "          document.querySelector('#df-21528d34-4004-49dc-9649-ba9854a56db9 button.colab-df-convert');\n",
              "        buttonEl.style.display =\n",
              "          google.colab.kernel.accessAllowed ? 'block' : 'none';\n",
              "\n",
              "        async function convertToInteractive(key) {\n",
              "          const element = document.querySelector('#df-21528d34-4004-49dc-9649-ba9854a56db9');\n",
              "          const dataTable =\n",
              "            await google.colab.kernel.invokeFunction('convertToInteractive',\n",
              "                                                     [key], {});\n",
              "          if (!dataTable) return;\n",
              "\n",
              "          const docLinkHtml = 'Like what you see? Visit the ' +\n",
              "            '<a target=\"_blank\" href=https://colab.research.google.com/notebooks/data_table.ipynb>data table notebook</a>'\n",
              "            + ' to learn more about interactive tables.';\n",
              "          element.innerHTML = '';\n",
              "          dataTable['output_type'] = 'display_data';\n",
              "          await google.colab.output.renderOutput(dataTable, element);\n",
              "          const docLink = document.createElement('div');\n",
              "          docLink.innerHTML = docLinkHtml;\n",
              "          element.appendChild(docLink);\n",
              "        }\n",
              "      </script>\n",
              "    </div>\n",
              "  </div>\n",
              "  "
            ]
          },
          "metadata": {},
          "execution_count": 4
        }
      ]
    },
    {
      "cell_type": "code",
      "source": [
        "df['RADIO_CODE'].value_counts()"
      ],
      "metadata": {
        "id": "4GPO4E33SpGb",
        "colab": {
          "base_uri": "https://localhost:8080/"
        },
        "outputId": "3a4c6c9d-dd64-4c49-f06c-010d7f657cbd"
      },
      "execution_count": null,
      "outputs": [
        {
          "output_type": "execute_result",
          "data": {
            "text/plain": [
              "53D     133888\n",
              "20R      81576\n",
              "22Q2     67598\n",
              "50G2     67359\n",
              "29H1     59547\n",
              "24Q2     41111\n",
              "29Q1     33510\n",
              "39T1      7762\n",
              "10S2      7743\n",
              "33         361\n",
              "Name: RADIO_CODE, dtype: int64"
            ]
          },
          "metadata": {},
          "execution_count": 5
        }
      ]
    },
    {
      "cell_type": "code",
      "source": [
        "df['RADIO_CODE'].value_counts()"
      ],
      "metadata": {
        "id": "7diL5vueTptR",
        "colab": {
          "base_uri": "https://localhost:8080/"
        },
        "outputId": "7bfbc551-2133-47c7-e8a3-49eba10ff5e2"
      },
      "execution_count": null,
      "outputs": [
        {
          "output_type": "execute_result",
          "data": {
            "text/plain": [
              "53D     133888\n",
              "20R      81576\n",
              "22Q2     67598\n",
              "50G2     67359\n",
              "29H1     59547\n",
              "24Q2     41111\n",
              "29Q1     33510\n",
              "39T1      7762\n",
              "10S2      7743\n",
              "33         361\n",
              "Name: RADIO_CODE, dtype: int64"
            ]
          },
          "metadata": {},
          "execution_count": 6
        }
      ]
    },
    {
      "cell_type": "code",
      "source": [
        "df.shape"
      ],
      "metadata": {
        "id": "kMAgjDAZL_mg",
        "colab": {
          "base_uri": "https://localhost:8080/"
        },
        "outputId": "8dcc9d85-5162-4e05-d0ce-26fe03193577"
      },
      "execution_count": null,
      "outputs": [
        {
          "output_type": "execute_result",
          "data": {
            "text/plain": [
              "(500455, 22)"
            ]
          },
          "metadata": {},
          "execution_count": 7
        }
      ]
    },
    {
      "cell_type": "code",
      "source": [
        "#dropping unnecessary columns\n",
        "df.drop(['NYPD_PCT_CD','ADD_TS',\t'DISP_TS','CLOSNG_TS','CIP_JOBS_Critical','CIP_JOBS_Non CIP','CIP_JOBS_Non Critical','CIP_JOBS_Serious'],axis=1,inplace=True)"
      ],
      "metadata": {
        "id": "WYeZJs1bMDOK"
      },
      "execution_count": null,
      "outputs": []
    },
    {
      "cell_type": "code",
      "source": [
        "df.head()"
      ],
      "metadata": {
        "id": "eLpqTmhWOn_I",
        "colab": {
          "base_uri": "https://localhost:8080/",
          "height": 374
        },
        "outputId": "8dc20f96-8d96-49c8-f408-8412d73d1d88"
      },
      "execution_count": null,
      "outputs": [
        {
          "output_type": "execute_result",
          "data": {
            "text/plain": [
              "   CAD_EVNT_ID RADIO_CODE            ARRIVD_TS   Latitude  Longitude  \\\n",
              "0     75781251       29Q1  2021-03-24 20:10:33  40.665504 -73.755437   \n",
              "1     79375430        53D  2021-08-26 12:39:22  40.625626 -73.915499   \n",
              "2     77407811       24Q2  2021-06-04 16:28:27  40.788134 -73.945602   \n",
              "3     76177095       29H1  2021-04-11 17:25:07  40.677098 -73.825040   \n",
              "4     79879502       24Q2  2021-09-17 01:22:38  40.707385 -73.873772   \n",
              "\n",
              "    INCIDENT_DATE_TIME  PATRL_BORO_NM_PATROL BORO BKLYN NORTH  \\\n",
              "0  2021-03-24 19:49:06                                      0   \n",
              "1  2021-08-26 12:25:56                                      0   \n",
              "2  2021-06-04 16:24:23                                      0   \n",
              "3  2021-04-11 17:19:50                                      0   \n",
              "4  2021-09-17 00:33:16                                      0   \n",
              "\n",
              "   PATRL_BORO_NM_PATROL BORO BKLYN SOUTH  PATRL_BORO_NM_PATROL BORO BRONX  \\\n",
              "0                                      0                                0   \n",
              "1                                      1                                0   \n",
              "2                                      0                                0   \n",
              "3                                      0                                0   \n",
              "4                                      0                                0   \n",
              "\n",
              "   PATRL_BORO_NM_PATROL BORO MAN NORTH  PATRL_BORO_NM_PATROL BORO MAN SOUTH  \\\n",
              "0                                    0                                    0   \n",
              "1                                    0                                    0   \n",
              "2                                    1                                    0   \n",
              "3                                    0                                    0   \n",
              "4                                    0                                    0   \n",
              "\n",
              "   PATRL_BORO_NM_PATROL BORO QUEENS NORTH  \\\n",
              "0                                       0   \n",
              "1                                       0   \n",
              "2                                       0   \n",
              "3                                       0   \n",
              "4                                       1   \n",
              "\n",
              "   PATRL_BORO_NM_PATROL BORO QUEENS SOUTH  \\\n",
              "0                                       1   \n",
              "1                                       0   \n",
              "2                                       0   \n",
              "3                                       1   \n",
              "4                                       0   \n",
              "\n",
              "   PATRL_BORO_NM_PATROL BORO STATEN ISLAND  \n",
              "0                                        0  \n",
              "1                                        0  \n",
              "2                                        0  \n",
              "3                                        0  \n",
              "4                                        0  "
            ],
            "text/html": [
              "\n",
              "  <div id=\"df-791975d7-0bc8-4639-83ab-0eb2e716ab14\">\n",
              "    <div class=\"colab-df-container\">\n",
              "      <div>\n",
              "<style scoped>\n",
              "    .dataframe tbody tr th:only-of-type {\n",
              "        vertical-align: middle;\n",
              "    }\n",
              "\n",
              "    .dataframe tbody tr th {\n",
              "        vertical-align: top;\n",
              "    }\n",
              "\n",
              "    .dataframe thead th {\n",
              "        text-align: right;\n",
              "    }\n",
              "</style>\n",
              "<table border=\"1\" class=\"dataframe\">\n",
              "  <thead>\n",
              "    <tr style=\"text-align: right;\">\n",
              "      <th></th>\n",
              "      <th>CAD_EVNT_ID</th>\n",
              "      <th>RADIO_CODE</th>\n",
              "      <th>ARRIVD_TS</th>\n",
              "      <th>Latitude</th>\n",
              "      <th>Longitude</th>\n",
              "      <th>INCIDENT_DATE_TIME</th>\n",
              "      <th>PATRL_BORO_NM_PATROL BORO BKLYN NORTH</th>\n",
              "      <th>PATRL_BORO_NM_PATROL BORO BKLYN SOUTH</th>\n",
              "      <th>PATRL_BORO_NM_PATROL BORO BRONX</th>\n",
              "      <th>PATRL_BORO_NM_PATROL BORO MAN NORTH</th>\n",
              "      <th>PATRL_BORO_NM_PATROL BORO MAN SOUTH</th>\n",
              "      <th>PATRL_BORO_NM_PATROL BORO QUEENS NORTH</th>\n",
              "      <th>PATRL_BORO_NM_PATROL BORO QUEENS SOUTH</th>\n",
              "      <th>PATRL_BORO_NM_PATROL BORO STATEN ISLAND</th>\n",
              "    </tr>\n",
              "  </thead>\n",
              "  <tbody>\n",
              "    <tr>\n",
              "      <th>0</th>\n",
              "      <td>75781251</td>\n",
              "      <td>29Q1</td>\n",
              "      <td>2021-03-24 20:10:33</td>\n",
              "      <td>40.665504</td>\n",
              "      <td>-73.755437</td>\n",
              "      <td>2021-03-24 19:49:06</td>\n",
              "      <td>0</td>\n",
              "      <td>0</td>\n",
              "      <td>0</td>\n",
              "      <td>0</td>\n",
              "      <td>0</td>\n",
              "      <td>0</td>\n",
              "      <td>1</td>\n",
              "      <td>0</td>\n",
              "    </tr>\n",
              "    <tr>\n",
              "      <th>1</th>\n",
              "      <td>79375430</td>\n",
              "      <td>53D</td>\n",
              "      <td>2021-08-26 12:39:22</td>\n",
              "      <td>40.625626</td>\n",
              "      <td>-73.915499</td>\n",
              "      <td>2021-08-26 12:25:56</td>\n",
              "      <td>0</td>\n",
              "      <td>1</td>\n",
              "      <td>0</td>\n",
              "      <td>0</td>\n",
              "      <td>0</td>\n",
              "      <td>0</td>\n",
              "      <td>0</td>\n",
              "      <td>0</td>\n",
              "    </tr>\n",
              "    <tr>\n",
              "      <th>2</th>\n",
              "      <td>77407811</td>\n",
              "      <td>24Q2</td>\n",
              "      <td>2021-06-04 16:28:27</td>\n",
              "      <td>40.788134</td>\n",
              "      <td>-73.945602</td>\n",
              "      <td>2021-06-04 16:24:23</td>\n",
              "      <td>0</td>\n",
              "      <td>0</td>\n",
              "      <td>0</td>\n",
              "      <td>1</td>\n",
              "      <td>0</td>\n",
              "      <td>0</td>\n",
              "      <td>0</td>\n",
              "      <td>0</td>\n",
              "    </tr>\n",
              "    <tr>\n",
              "      <th>3</th>\n",
              "      <td>76177095</td>\n",
              "      <td>29H1</td>\n",
              "      <td>2021-04-11 17:25:07</td>\n",
              "      <td>40.677098</td>\n",
              "      <td>-73.825040</td>\n",
              "      <td>2021-04-11 17:19:50</td>\n",
              "      <td>0</td>\n",
              "      <td>0</td>\n",
              "      <td>0</td>\n",
              "      <td>0</td>\n",
              "      <td>0</td>\n",
              "      <td>0</td>\n",
              "      <td>1</td>\n",
              "      <td>0</td>\n",
              "    </tr>\n",
              "    <tr>\n",
              "      <th>4</th>\n",
              "      <td>79879502</td>\n",
              "      <td>24Q2</td>\n",
              "      <td>2021-09-17 01:22:38</td>\n",
              "      <td>40.707385</td>\n",
              "      <td>-73.873772</td>\n",
              "      <td>2021-09-17 00:33:16</td>\n",
              "      <td>0</td>\n",
              "      <td>0</td>\n",
              "      <td>0</td>\n",
              "      <td>0</td>\n",
              "      <td>0</td>\n",
              "      <td>1</td>\n",
              "      <td>0</td>\n",
              "      <td>0</td>\n",
              "    </tr>\n",
              "  </tbody>\n",
              "</table>\n",
              "</div>\n",
              "      <button class=\"colab-df-convert\" onclick=\"convertToInteractive('df-791975d7-0bc8-4639-83ab-0eb2e716ab14')\"\n",
              "              title=\"Convert this dataframe to an interactive table.\"\n",
              "              style=\"display:none;\">\n",
              "        \n",
              "  <svg xmlns=\"http://www.w3.org/2000/svg\" height=\"24px\"viewBox=\"0 0 24 24\"\n",
              "       width=\"24px\">\n",
              "    <path d=\"M0 0h24v24H0V0z\" fill=\"none\"/>\n",
              "    <path d=\"M18.56 5.44l.94 2.06.94-2.06 2.06-.94-2.06-.94-.94-2.06-.94 2.06-2.06.94zm-11 1L8.5 8.5l.94-2.06 2.06-.94-2.06-.94L8.5 2.5l-.94 2.06-2.06.94zm10 10l.94 2.06.94-2.06 2.06-.94-2.06-.94-.94-2.06-.94 2.06-2.06.94z\"/><path d=\"M17.41 7.96l-1.37-1.37c-.4-.4-.92-.59-1.43-.59-.52 0-1.04.2-1.43.59L10.3 9.45l-7.72 7.72c-.78.78-.78 2.05 0 2.83L4 21.41c.39.39.9.59 1.41.59.51 0 1.02-.2 1.41-.59l7.78-7.78 2.81-2.81c.8-.78.8-2.07 0-2.86zM5.41 20L4 18.59l7.72-7.72 1.47 1.35L5.41 20z\"/>\n",
              "  </svg>\n",
              "      </button>\n",
              "      \n",
              "  <style>\n",
              "    .colab-df-container {\n",
              "      display:flex;\n",
              "      flex-wrap:wrap;\n",
              "      gap: 12px;\n",
              "    }\n",
              "\n",
              "    .colab-df-convert {\n",
              "      background-color: #E8F0FE;\n",
              "      border: none;\n",
              "      border-radius: 50%;\n",
              "      cursor: pointer;\n",
              "      display: none;\n",
              "      fill: #1967D2;\n",
              "      height: 32px;\n",
              "      padding: 0 0 0 0;\n",
              "      width: 32px;\n",
              "    }\n",
              "\n",
              "    .colab-df-convert:hover {\n",
              "      background-color: #E2EBFA;\n",
              "      box-shadow: 0px 1px 2px rgba(60, 64, 67, 0.3), 0px 1px 3px 1px rgba(60, 64, 67, 0.15);\n",
              "      fill: #174EA6;\n",
              "    }\n",
              "\n",
              "    [theme=dark] .colab-df-convert {\n",
              "      background-color: #3B4455;\n",
              "      fill: #D2E3FC;\n",
              "    }\n",
              "\n",
              "    [theme=dark] .colab-df-convert:hover {\n",
              "      background-color: #434B5C;\n",
              "      box-shadow: 0px 1px 3px 1px rgba(0, 0, 0, 0.15);\n",
              "      filter: drop-shadow(0px 1px 2px rgba(0, 0, 0, 0.3));\n",
              "      fill: #FFFFFF;\n",
              "    }\n",
              "  </style>\n",
              "\n",
              "      <script>\n",
              "        const buttonEl =\n",
              "          document.querySelector('#df-791975d7-0bc8-4639-83ab-0eb2e716ab14 button.colab-df-convert');\n",
              "        buttonEl.style.display =\n",
              "          google.colab.kernel.accessAllowed ? 'block' : 'none';\n",
              "\n",
              "        async function convertToInteractive(key) {\n",
              "          const element = document.querySelector('#df-791975d7-0bc8-4639-83ab-0eb2e716ab14');\n",
              "          const dataTable =\n",
              "            await google.colab.kernel.invokeFunction('convertToInteractive',\n",
              "                                                     [key], {});\n",
              "          if (!dataTable) return;\n",
              "\n",
              "          const docLinkHtml = 'Like what you see? Visit the ' +\n",
              "            '<a target=\"_blank\" href=https://colab.research.google.com/notebooks/data_table.ipynb>data table notebook</a>'\n",
              "            + ' to learn more about interactive tables.';\n",
              "          element.innerHTML = '';\n",
              "          dataTable['output_type'] = 'display_data';\n",
              "          await google.colab.output.renderOutput(dataTable, element);\n",
              "          const docLink = document.createElement('div');\n",
              "          docLink.innerHTML = docLinkHtml;\n",
              "          element.appendChild(docLink);\n",
              "        }\n",
              "      </script>\n",
              "    </div>\n",
              "  </div>\n",
              "  "
            ]
          },
          "metadata": {},
          "execution_count": 9
        }
      ]
    },
    {
      "cell_type": "code",
      "source": [
        "df.shape"
      ],
      "metadata": {
        "id": "rLv_tS7fOpKm",
        "colab": {
          "base_uri": "https://localhost:8080/"
        },
        "outputId": "10b95bcd-253c-43fb-96b7-5bbe870c11d9"
      },
      "execution_count": null,
      "outputs": [
        {
          "output_type": "execute_result",
          "data": {
            "text/plain": [
              "(500455, 14)"
            ]
          },
          "metadata": {},
          "execution_count": 10
        }
      ]
    },
    {
      "cell_type": "markdown",
      "source": [
        "# K-Means Clustering"
      ],
      "metadata": {
        "id": "a-Qd06eSO4G4"
      }
    },
    {
      "cell_type": "code",
      "source": [
        "# importing libraries\n",
        "import numpy as nm\n",
        "import matplotlib.pyplot as mtp"
      ],
      "metadata": {
        "id": "PHMhtLv0OraR"
      },
      "execution_count": null,
      "outputs": []
    },
    {
      "cell_type": "code",
      "source": [
        "#x=df.drop('CAD_EVNT_ID',axis=1)\n",
        "x=df[['Longitude','Latitude']]\n",
        "x.to_csv('k_means_csv.csv')"
      ],
      "metadata": {
        "id": "PGETmBIURhWU"
      },
      "execution_count": null,
      "outputs": []
    },
    {
      "cell_type": "code",
      "source": [
        "x =x.values"
      ],
      "metadata": {
        "id": "Gt-t5TiGQQCn"
      },
      "execution_count": null,
      "outputs": []
    },
    {
      "cell_type": "code",
      "source": [
        "print(x)"
      ],
      "metadata": {
        "id": "JOKQxy2rQ-EE",
        "colab": {
          "base_uri": "https://localhost:8080/"
        },
        "outputId": "a3806d92-6b88-4041-85f9-569f42d01ce8"
      },
      "execution_count": null,
      "outputs": [
        {
          "output_type": "stream",
          "name": "stdout",
          "text": [
            "[[-73.755437  40.665504]\n",
            " [-73.915499  40.625626]\n",
            " [-73.945602  40.788134]\n",
            " ...\n",
            " [-73.998248  40.745631]\n",
            " [-73.858619  40.8235  ]\n",
            " [-73.938133  40.82037 ]]\n"
          ]
        }
      ]
    },
    {
      "cell_type": "code",
      "source": [
        "#finding optimal number of clusters using the elbow method\n",
        "from sklearn.cluster import KMeans\n",
        "wcss_list= []  #Initializing the list for the values of WCSS\n",
        "\n",
        "#Using for loop for iterations from 1 to 10.\n",
        "for i in range(2, 12):\n",
        "    kmeans = KMeans(n_clusters=i, init='k-means++', random_state= 42)\n",
        "    kmeans.fit(x)\n",
        "    wcss_list.append(kmeans.inertia_)\n",
        "mtp.plot(range(2, 12), wcss_list)\n",
        "mtp.title('The Elobw Method Graph')\n",
        "mtp.xlabel('Number of clusters(k)')\n",
        "mtp.ylabel('wcss')\n",
        "mtp.show()"
      ],
      "metadata": {
        "id": "zxJcgWf9QVKr",
        "colab": {
          "base_uri": "https://localhost:8080/",
          "height": 295
        },
        "outputId": "4f66b14e-3431-4fd8-a845-17a09812a37c"
      },
      "execution_count": null,
      "outputs": [
        {
          "output_type": "display_data",
          "data": {
            "text/plain": [
              "<Figure size 432x288 with 1 Axes>"
            ],
            "image/png": "[encoded data removed]"
          },
          "metadata": {
            "needs_background": "light"
          }
        }
      ]
    },
    {
      "cell_type": "code",
      "source": [
        "#training the K-means model on a dataset\n",
        "from sklearn.cluster import KMeans\n",
        "kmeans = KMeans(n_clusters=10, init='k-means++', random_state= 42)\n",
        "y_predict= kmeans.fit_predict(x)"
      ],
      "metadata": {
        "id": "168VsSWyQXbd"
      },
      "execution_count": null,
      "outputs": []
    },
    {
      "cell_type": "code",
      "source": [
        "y_predict"
      ],
      "metadata": {
        "id": "uLKMr3QxVU-J",
        "colab": {
          "base_uri": "https://localhost:8080/"
        },
        "outputId": "d22c5fc5-0e63-4f2a-860f-75841d409c92"
      },
      "execution_count": null,
      "outputs": [
        {
          "output_type": "execute_result",
          "data": {
            "text/plain": [
              "array([1, 8, 7, ..., 0, 2, 7], dtype=int32)"
            ]
          },
          "metadata": {},
          "execution_count": 16
        }
      ]
    },
    {
      "cell_type": "code",
      "source": [
        "#delete later"
      ],
      "metadata": {
        "id": "jsmd-idZP8dw"
      },
      "execution_count": null,
      "outputs": []
    },
    {
      "cell_type": "code",
      "source": [
        "pd.DataFrame(y_predict).to_csv('y_predict_latest.csv')"
      ],
      "metadata": {
        "id": "9kzzLiicQAxl"
      },
      "execution_count": null,
      "outputs": []
    },
    {
      "cell_type": "code",
      "source": [
        "import numpy as np\n",
        "Y_predict=list(np.array(pd.read_csv('y_predict_latest.csv')['0']))"
      ],
      "metadata": {
        "id": "LeNugEoiQIBx"
      },
      "execution_count": null,
      "outputs": []
    },
    {
      "cell_type": "code",
      "source": [
        "x=pd.read_csv('k_means_csv.csv')"
      ],
      "metadata": {
        "id": "mdwiLFwPQIFG"
      },
      "execution_count": null,
      "outputs": []
    },
    {
      "cell_type": "code",
      "source": [
        "x.drop('Unnamed: 0',axis=1,inplace=True)"
      ],
      "metadata": {
        "id": "lG2qhasIQIIR"
      },
      "execution_count": null,
      "outputs": []
    },
    {
      "cell_type": "code",
      "source": [
        "x=x.values"
      ],
      "metadata": {
        "id": "LnkeH_kTRA2a"
      },
      "execution_count": null,
      "outputs": []
    },
    {
      "cell_type": "code",
      "source": [
        "#visulaizing the clusters\n",
        "mtp.figure(figsize=(13,8))\n",
        "mtp.scatter(x[y_predict == 0, 0], x[y_predict == 0, 1], s = 2, c = 'blue', label = 'Cluster 1') #for first cluster\n",
        "mtp.scatter(x[y_predict == 1, 0], x[y_predict == 1, 1], s = 2, c = 'green', label = 'Cluster 2') #for second cluster\n",
        "mtp.scatter(x[y_predict== 2, 0], x[y_predict == 2, 1], s = 2, c = 'red', label = 'Cluster 3') #for third cluster\n",
        "mtp.scatter(x[y_predict == 3, 0], x[y_predict == 3, 1], s = 2, c = 'cyan', label = 'Cluster 4') #for fourth cluster\n",
        "mtp.scatter(x[y_predict == 4, 0], x[y_predict == 4, 1], s = 2, c = 'magenta', label = 'Cluster 5') #for fifth cluster\n",
        "mtp.scatter(x[y_predict == 5, 0], x[y_predict == 5, 1], s = 2, c = 'purple', label = 'Cluster 6') #for sixth cluster\n",
        "mtp.scatter(x[y_predict == 6, 0], x[y_predict == 6, 1], s = 2, c = 'pink', label = 'Cluster 7') #for seventh cluster\n",
        "mtp.scatter(x[y_predict == 7, 0], x[y_predict == 7, 1], s = 2, c = 'orange', label = 'Cluster 8') #for Eight cluster\n",
        "mtp.scatter(x[y_predict == 8, 0], x[y_predict == 8, 1], s = 2, c = 'yellowgreen', label = 'Cluster 9') #for ninth cluster\n",
        "mtp.scatter(x[y_predict == 9, 0], x[y_predict == 9, 1], s = 2, c = 'brown', label = 'Cluster 10') #for tenth cluster\n",
        "# mtp.scatter(x[y_predict == 10, 0], x[y_predict == 10, 1], s = 2, c = 'gray', label = 'Cluster 11') #for eleventh cluster\n",
        "mtp.scatter(kmeans.cluster_centers_[:, 0], kmeans.cluster_centers_[:, 1], s = 100, c = 'yellow', label = 'Centroid')\n",
        "mtp.title('Clusters of locations')\n",
        "mtp.xlabel('Longitude')\n",
        "mtp.ylabel('Latitude')\n",
        "mtp.legend()\n",
        "mtp.show()"
      ],
      "metadata": {
        "colab": {
          "base_uri": "https://localhost:8080/",
          "height": 513
        },
        "id": "HTsTYMcaQILP",
        "outputId": "0fd3b4f0-9bec-4217-800c-bd5936d5223e"
      },
      "execution_count": null,
      "outputs": [
        {
          "output_type": "display_data",
          "data": {
            "text/plain": [
              "<Figure size 936x576 with 1 Axes>"
            ],
            "image/png": "[encoded data removed]"
          },
          "metadata": {
            "needs_background": "light"
          }
        }
      ]
    },
    {
      "cell_type": "code",
      "source": [],
      "metadata": {
        "id": "x0SKROcYQIOU"
      },
      "execution_count": null,
      "outputs": []
    },
    {
      "cell_type": "code",
      "source": [
        "pd.DataFrame(y_predict).to_csv('y_predict.csv')\n",
        "np.array(pd.read_csv('y_predict.csv')['0'])"
      ],
      "metadata": {
        "id": "_aw9ZcnhlaK0"
      },
      "execution_count": null,
      "outputs": []
    },
    {
      "cell_type": "code",
      "source": [
        "pd.DataFrame(kmeans.cluster_centers_[:, 0]).to_csv('kmeans.cluster_centers_0')"
      ],
      "metadata": {
        "id": "WHZJuW4LP8k2"
      },
      "execution_count": null,
      "outputs": []
    },
    {
      "cell_type": "code",
      "source": [
        "import numpy as np\n",
        "kmeans.cluster_centers_0=np.array(pd.read_csv('kmeans.cluster_centers_0')['0'])"
      ],
      "metadata": {
        "id": "fSTIP1M1QIgA"
      },
      "execution_count": null,
      "outputs": []
    },
    {
      "cell_type": "code",
      "source": [
        "pd.DataFrame(kmeans.cluster_centers_[:, 1]).to_csv('kmeans.cluster_centers_1')"
      ],
      "metadata": {
        "id": "RhzKFxmSQIi2"
      },
      "execution_count": null,
      "outputs": []
    },
    {
      "cell_type": "code",
      "source": [
        "kmeans.cluster_centers_1=np.array(pd.read_csv('kmeans.cluster_centers_1')['0'])"
      ],
      "metadata": {
        "id": "Tgq56YGrQIlL"
      },
      "execution_count": null,
      "outputs": []
    },
    {
      "cell_type": "code",
      "source": [
        "kmeans.cluster_centers_1[0]"
      ],
      "metadata": {
        "colab": {
          "base_uri": "https://localhost:8080/"
        },
        "id": "HOxriRjBRB37",
        "outputId": "5f6c9425-3bef-461e-b73d-63d1a17889c9"
      },
      "execution_count": null,
      "outputs": [
        {
          "output_type": "execute_result",
          "data": {
            "text/plain": [
              "40.73209737124884"
            ]
          },
          "metadata": {},
          "execution_count": 43
        }
      ]
    },
    {
      "cell_type": "code",
      "source": [
        "kmeans.cluster_centers_0[0]"
      ],
      "metadata": {
        "colab": {
          "base_uri": "https://localhost:8080/"
        },
        "id": "VySOGJXJ97wh",
        "outputId": "6a03b8f8-3df7-4982-fd1c-c045f588a056"
      },
      "execution_count": null,
      "outputs": [
        {
          "output_type": "execute_result",
          "data": {
            "text/plain": [
              "-73.98649133881594"
            ]
          },
          "metadata": {},
          "execution_count": 44
        }
      ]
    },
    {
      "cell_type": "code",
      "source": [
        "from geopy.geocoders import Nominatim\n",
        "geolocator = Nominatim(user_agent=\"geoapiExercises\")\n",
        "for i in range(0,10):\n",
        "  location = geolocator.reverse(str(kmeans.cluster_centers_1[i]) + \",\" + str(kmeans.cluster_centers_0[i]))\n",
        "  print(iz)"
      ],
      "metadata": {
        "id": "uTL5rCGY-Na3"
      },
      "execution_count": null,
      "outputs": []
    },
    {
      "cell_type": "code",
      "source": [
        "from geopy.geocoders import Nominatim\n",
        "geolocator = Nominatim(user_agent=\"GetLoc\")\n",
        "geolocator.reverse(str(kmeans.cluster_centers_1[9]) + \",\" + str(kmeans.cluster_centers_0[9]))"
      ],
      "metadata": {
        "colab": {
          "base_uri": "https://localhost:8080/"
        },
        "id": "xvOEDfL__G8b",
        "outputId": "ba994e4d-0af7-4567-bb1d-fce67c5a5dca"
      },
      "execution_count": null,
      "outputs": [
        {
          "output_type": "execute_result",
          "data": {
            "text/plain": [
              "Location(44-14, Norton Avenue, Queens, Queens County, New York, 11691, United States, (40.5990936, -73.77668622827889, 0.0))"
            ]
          },
          "metadata": {},
          "execution_count": 56
        }
      ]
    },
    {
      "cell_type": "code",
      "source": [
        "location"
      ],
      "metadata": {
        "colab": {
          "base_uri": "https://localhost:8080/"
        },
        "id": "yF0Le0fg-qCu",
        "outputId": "3aa4e7d8-138d-4fe0-ccd4-11162113bb39"
      },
      "execution_count": null,
      "outputs": [
        {
          "output_type": "execute_result",
          "data": {
            "text/plain": [
              "Location(228, East 13th Street, Greenwich Village, Manhattan Community Board 3, New York County, New York, 10009, United States, (40.731933850000004, -73.9866416945338, 0.0))"
            ]
          },
          "metadata": {},
          "execution_count": 46
        }
      ]
    },
    {
      "cell_type": "code",
      "source": [
        "#delete later"
      ],
      "metadata": {
        "id": "S9C5JYksP-Zw"
      },
      "execution_count": null,
      "outputs": []
    },
    {
      "cell_type": "code",
      "source": [
        "#visulaizing the clusters\n",
        "mtp.figure(figsize=(13,8))\n",
        "mtp.scatter(x[y_predict == 0, 0], x[y_predict == 0, 1], s = 2, c = 'blue', label = 'Cluster 1') #for first cluster\n",
        "mtp.scatter(x[y_predict == 1, 0], x[y_predict == 1, 1], s = 2, c = 'green', label = 'Cluster 2') #for second cluster\n",
        "mtp.scatter(x[y_predict== 2, 0], x[y_predict == 2, 1], s = 2, c = 'red', label = 'Cluster 3') #for third cluster\n",
        "mtp.scatter(x[y_predict == 3, 0], x[y_predict == 3, 1], s = 2, c = 'cyan', label = 'Cluster 4') #for fourth cluster\n",
        "mtp.scatter(x[y_predict == 4, 0], x[y_predict == 4, 1], s = 2, c = 'magenta', label = 'Cluster 5') #for fifth cluster\n",
        "mtp.scatter(x[y_predict == 5, 0], x[y_predict == 5, 1], s = 2, c = 'purple', label = 'Cluster 6') #for sixth cluster\n",
        "mtp.scatter(x[y_predict == 6, 0], x[y_predict == 6, 1], s = 2, c = 'pink', label = 'Cluster 7') #for seventh cluster\n",
        "mtp.scatter(x[y_predict == 7, 0], x[y_predict == 7, 1], s = 2, c = 'black', label = 'Cluster 8') #for Eight cluster\n",
        "mtp.scatter(x[y_predict == 8, 0], x[y_predict == 8, 1], s = 2, c = 'yellowgreen', label = 'Cluster 9') #for ninth cluster\n",
        "mtp.scatter(x[y_predict == 9, 0], x[y_predict == 9, 1], s = 2, c = 'brown', label = 'Cluster 10') #for tenth cluster\n",
        "# mtp.scatter(x[y_predict == 10, 0], x[y_predict == 10, 1], s = 2, c = 'gray', label = 'Cluster 11') #for eleventh cluster\n",
        "mtp.scatter(kmeans.cluster_centers_[:, 0], kmeans.cluster_centers_[:, 1], s = 100, c = 'yellow', label = 'Centroid')\n",
        "mtp.title('Clusters of locations')\n",
        "mtp.xlabel('Longitude')\n",
        "mtp.ylabel('Latitude')\n",
        "mtp.legend()\n",
        "mtp.show()"
      ],
      "metadata": {
        "id": "mDNJ7kkETHz2",
        "colab": {
          "base_uri": "https://localhost:8080/",
          "height": 513
        },
        "outputId": "e0844afb-c542-4e80-d1c3-22c8b67ed7ed"
      },
      "execution_count": null,
      "outputs": [
        {
          "output_type": "display_data",
          "data": {
            "text/plain": [
              "<Figure size 936x576 with 1 Axes>"
            ],
            "image/png": "[encoded data removed]"
          },
          "metadata": {
            "needs_background": "light"
          }
        }
      ]
    },
    {
      "cell_type": "code",
      "source": [
        "# mtp.figure(figsize=(13,8))\n",
        "# mtp.scatter(x[y_predict == 0, 0], x[y_predict == 0, 1], s = 2, c = 'blue', label = 'Cluster 1') #for first cluster\n",
        "# mtp.title('Clusters of locations')\n",
        "# mtp.xlabel('Latitude')\n",
        "# mtp.ylabel('Longitude')\n",
        "# mtp.legend()\n",
        "# mtp.show()"
      ],
      "metadata": {
        "id": "fSIfxZUovBM8"
      },
      "execution_count": null,
      "outputs": []
    },
    {
      "cell_type": "code",
      "source": [
        "#DB Index\n",
        "from sklearn.metrics import davies_bouldin_score\n",
        "print(davies_bouldin_score(x, kmeans.labels_))"
      ],
      "metadata": {
        "id": "UvoYwstgoKm-"
      },
      "execution_count": null,
      "outputs": []
    },
    {
      "cell_type": "code",
      "source": [
        "#DB Index\n",
        "from sklearn.metrics import davies_bouldin_score\n",
        "print(davies_bouldin_score(x, y_predict))"
      ],
      "metadata": {
        "colab": {
          "base_uri": "https://localhost:8080/"
        },
        "id": "vIMAeUHko6uB",
        "outputId": "c95d2e2f-bb4c-4502-fe8c-50e99f066d84"
      },
      "execution_count": null,
      "outputs": [
        {
          "output_type": "stream",
          "name": "stdout",
          "text": [
            "0.772754688644497\n"
          ]
        }
      ]
    },
    {
      "cell_type": "code",
      "source": [
        "#silhouette score - not working\n",
        "# from sklearn.metrics import silhouette_score\n",
        "# silhouette_score(x, kmeans.labels_)"
      ],
      "metadata": {
        "id": "gGfBo5vmomop"
      },
      "execution_count": null,
      "outputs": []
    },
    {
      "cell_type": "code",
      "source": [
        "# pip install git+https://github.com/jqmviegas/jqm_cvi.git"
      ],
      "metadata": {
        "id": "3REYd2WDUCKC"
      },
      "execution_count": null,
      "outputs": []
    },
    {
      "cell_type": "code",
      "source": [
        "# #dunn index - import issues\n",
        "# from jqmcvi import base\n",
        "# pred = pd.DataFrame(y_predict)\n",
        "# pred.columns = ['Type']\n",
        "\n",
        "# # we merge this dataframe with df\n",
        "# prediction = pd.concat([x, pred], axis = 1)\n",
        "\n",
        "# # We store the clusters\n",
        "# clus0 = prediction.loc[prediction.Species == 0]\n",
        "# clus1 = prediction.loc[prediction.Species == 1]\n",
        "# clus2 = prediction.loc[prediction.Species == 2]\n",
        "# clus3 = prediction.loc[prediction.Species == 3]\n",
        "# clus4 = prediction.loc[prediction.Species == 4]\n",
        "# cluster_list = [clus0.values, clus1.values, clus2.values, clus3.values, clus4.values]\n",
        "\n",
        "# print(base.dunn(cluster_list))"
      ],
      "metadata": {
        "id": "UTNkGRohTVTX"
      },
      "execution_count": null,
      "outputs": []
    },
    {
      "cell_type": "code",
      "source": [
        "from sklearn.metrics import calinski_harabasz_score\n",
        "calinski_harabasz_score(x, kmeans.labels_)\n",
        "#The higher the Index, the better the performance.\n",
        "#https://towardsdatascience.com/performance-metrics-in-machine-learning-part-3-clustering-d69550662dc6"
      ],
      "metadata": {
        "id": "TQxIuqsyU32g"
      },
      "execution_count": null,
      "outputs": []
    },
    {
      "cell_type": "code",
      "source": [
        "x.shape"
      ],
      "metadata": {
        "id": "_9IZSKvtELX2",
        "colab": {
          "base_uri": "https://localhost:8080/"
        },
        "outputId": "39b5e9d0-f938-4091-e965-25e63186b681"
      },
      "execution_count": null,
      "outputs": [
        {
          "output_type": "execute_result",
          "data": {
            "text/plain": [
              "(500455, 2)"
            ]
          },
          "metadata": {},
          "execution_count": 20
        }
      ]
    },
    {
      "cell_type": "code",
      "source": [
        "x"
      ],
      "metadata": {
        "colab": {
          "base_uri": "https://localhost:8080/"
        },
        "id": "6aKL1NCT82bL",
        "outputId": "c87976ec-4853-49e3-8203-1fb5c0a47710"
      },
      "execution_count": null,
      "outputs": [
        {
          "output_type": "execute_result",
          "data": {
            "text/plain": [
              "array([[-73.755437,  40.665504],\n",
              "       [-73.915499,  40.625626],\n",
              "       [-73.945602,  40.788134],\n",
              "       ...,\n",
              "       [-73.998248,  40.745631],\n",
              "       [-73.858619,  40.8235  ],\n",
              "       [-73.938133,  40.82037 ]])"
            ]
          },
          "metadata": {},
          "execution_count": 21
        }
      ]
    },
    {
      "cell_type": "code",
      "source": [
        "merged = pd.DataFrame(x,columns=['Latitude','Longitude'])\n",
        "merged['CAD_EVNT_ID']=df['CAD_EVNT_ID']\n",
        "df_prepro = df\n",
        "merged[\"Labels\"] = list(kmeans.labels_)\n",
        "merged = merged.drop(columns=['Latitude','Longitude'],axis=1)\n",
        "merged=pd.merge(df_prepro,merged,how='inner',on='CAD_EVNT_ID')\n",
        "merged"
      ],
      "metadata": {
        "colab": {
          "base_uri": "https://localhost:8080/",
          "height": 235
        },
        "id": "78GGa52w9CYD",
        "outputId": "70cef9df-9f90-440d-88e3-546a53c64e52"
      },
      "execution_count": null,
      "outputs": [
        {
          "output_type": "error",
          "ename": "NameError",
          "evalue": "ignored",
          "traceback": [
            "\u001b[0;31m---------------------------------------------------------------------------\u001b[0m",
            "\u001b[0;31mNameError\u001b[0m                                 Traceback (most recent call last)",
            "\u001b[0;32m<ipython-input-8-41e505da1f25>\u001b[0m in \u001b[0;36m<module>\u001b[0;34m()\u001b[0m\n\u001b[1;32m      2\u001b[0m \u001b[0mmerged\u001b[0m\u001b[0;34m[\u001b[0m\u001b[0;34m'CAD_EVNT_ID'\u001b[0m\u001b[0;34m]\u001b[0m\u001b[0;34m=\u001b[0m\u001b[0mdf\u001b[0m\u001b[0;34m[\u001b[0m\u001b[0;34m'CAD_EVNT_ID'\u001b[0m\u001b[0;34m]\u001b[0m\u001b[0;34m\u001b[0m\u001b[0;34m\u001b[0m\u001b[0m\n\u001b[1;32m      3\u001b[0m \u001b[0mdf_prepro\u001b[0m \u001b[0;34m=\u001b[0m \u001b[0mdf\u001b[0m\u001b[0;34m\u001b[0m\u001b[0;34m\u001b[0m\u001b[0m\n\u001b[0;32m----> 4\u001b[0;31m \u001b[0mmerged\u001b[0m\u001b[0;34m[\u001b[0m\u001b[0;34m\"Labels\"\u001b[0m\u001b[0;34m]\u001b[0m \u001b[0;34m=\u001b[0m \u001b[0mlist\u001b[0m\u001b[0;34m(\u001b[0m\u001b[0mkmeans\u001b[0m\u001b[0;34m.\u001b[0m\u001b[0mlabels_\u001b[0m\u001b[0;34m)\u001b[0m\u001b[0;34m\u001b[0m\u001b[0;34m\u001b[0m\u001b[0m\n\u001b[0m\u001b[1;32m      5\u001b[0m \u001b[0mmerged\u001b[0m \u001b[0;34m=\u001b[0m \u001b[0mmerged\u001b[0m\u001b[0;34m.\u001b[0m\u001b[0mdrop\u001b[0m\u001b[0;34m(\u001b[0m\u001b[0mcolumns\u001b[0m\u001b[0;34m=\u001b[0m\u001b[0;34m[\u001b[0m\u001b[0;34m'Latitude'\u001b[0m\u001b[0;34m,\u001b[0m\u001b[0;34m'Longitude'\u001b[0m\u001b[0;34m]\u001b[0m\u001b[0;34m,\u001b[0m\u001b[0maxis\u001b[0m\u001b[0;34m=\u001b[0m\u001b[0;36m1\u001b[0m\u001b[0;34m)\u001b[0m\u001b[0;34m\u001b[0m\u001b[0;34m\u001b[0m\u001b[0m\n\u001b[1;32m      6\u001b[0m \u001b[0mmerged\u001b[0m\u001b[0;34m=\u001b[0m\u001b[0mpd\u001b[0m\u001b[0;34m.\u001b[0m\u001b[0mmerge\u001b[0m\u001b[0;34m(\u001b[0m\u001b[0mdf_prepro\u001b[0m\u001b[0;34m,\u001b[0m\u001b[0mmerged\u001b[0m\u001b[0;34m,\u001b[0m\u001b[0mhow\u001b[0m\u001b[0;34m=\u001b[0m\u001b[0;34m'inner'\u001b[0m\u001b[0;34m,\u001b[0m\u001b[0mon\u001b[0m\u001b[0;34m=\u001b[0m\u001b[0;34m'CAD_EVNT_ID'\u001b[0m\u001b[0;34m)\u001b[0m\u001b[0;34m\u001b[0m\u001b[0;34m\u001b[0m\u001b[0m\n",
            "\u001b[0;31mNameError\u001b[0m: name 'kmeans' is not defined"
          ]
        }
      ]
    },
    {
      "cell_type": "code",
      "source": [
        "merged"
      ],
      "metadata": {
        "id": "sy5zz1_h9Owo"
      },
      "execution_count": null,
      "outputs": []
    },
    {
      "cell_type": "code",
      "source": [
        "x=pd.DataFrame(x,columns=['Latitude','Longitude'])\n",
        "x['CAD_EVNT_ID']=df['CAD_EVNT_ID']"
      ],
      "metadata": {
        "id": "F3qeRAm1FINt"
      },
      "execution_count": null,
      "outputs": []
    },
    {
      "cell_type": "code",
      "source": [
        "x"
      ],
      "metadata": {
        "id": "IsMoCB-s85gE"
      },
      "execution_count": null,
      "outputs": []
    },
    {
      "cell_type": "code",
      "source": [
        "df"
      ],
      "metadata": {
        "id": "F6gI6VGiNBFC"
      },
      "execution_count": null,
      "outputs": []
    },
    {
      "cell_type": "code",
      "source": [
        "df_prepro = df\n",
        "x[\"Labels\"] = list(kmeans.labels_)\n",
        "x_drop = x.drop(columns=['Latitude','Longitude'],axis=1)\n",
        "x_merged = pd.merge(df_prepro,x_drop,how='inner',on='CAD_EVNT_ID')\n",
        "x_merged"
      ],
      "metadata": {
        "id": "Sg4kMSL5DCfP",
        "colab": {
          "base_uri": "https://localhost:8080/",
          "height": 678
        },
        "outputId": "e14da6b3-4ec6-401f-a707-e9eb4e600e4b"
      },
      "execution_count": null,
      "outputs": [
        {
          "output_type": "execute_result",
          "data": {
            "text/plain": [
              "        CAD_EVNT_ID RADIO_CODE            ARRIVD_TS   Latitude  Longitude  \\\n",
              "0          75781251       29Q1  2021-03-24 20:10:33  40.665504 -73.755437   \n",
              "1          79375430        53D  2021-08-26 12:39:22  40.625626 -73.915499   \n",
              "2          77407811       24Q2  2021-06-04 16:28:27  40.788134 -73.945602   \n",
              "3          76177095       29H1  2021-04-11 17:25:07  40.677098 -73.825040   \n",
              "4          79879502       24Q2  2021-09-17 01:22:38  40.707385 -73.873772   \n",
              "...             ...        ...                  ...        ...        ...   \n",
              "500450     79014233       24Q2  2021-08-10 19:37:19  40.694553 -73.898867   \n",
              "500451     79499944        53D  2021-08-31 23:02:14  40.745196 -73.927784   \n",
              "500452     77725606       22Q2  2021-06-17 12:36:03  40.745631 -73.998248   \n",
              "500453     77969063       22Q2  2021-06-27 12:10:14  40.823500 -73.858619   \n",
              "500454     76309324       10S2  2021-04-17 22:16:39  40.820370 -73.938133   \n",
              "\n",
              "         INCIDENT_DATE_TIME  PATRL_BORO_NM_PATROL BORO BKLYN NORTH  \\\n",
              "0       2021-03-24 19:49:06                                      0   \n",
              "1       2021-08-26 12:25:56                                      0   \n",
              "2       2021-06-04 16:24:23                                      0   \n",
              "3       2021-04-11 17:19:50                                      0   \n",
              "4       2021-09-17 00:33:16                                      0   \n",
              "...                     ...                                    ...   \n",
              "500450  2021-08-10 19:21:35                                      0   \n",
              "500451  2021-08-31 21:34:16                                      0   \n",
              "500452  2021-06-17 12:08:21                                      0   \n",
              "500453  2021-06-27 12:04:29                                      0   \n",
              "500454  2021-04-17 22:15:40                                      0   \n",
              "\n",
              "        PATRL_BORO_NM_PATROL BORO BKLYN SOUTH  \\\n",
              "0                                           0   \n",
              "1                                           1   \n",
              "2                                           0   \n",
              "3                                           0   \n",
              "4                                           0   \n",
              "...                                       ...   \n",
              "500450                                      0   \n",
              "500451                                      0   \n",
              "500452                                      0   \n",
              "500453                                      0   \n",
              "500454                                      0   \n",
              "\n",
              "        PATRL_BORO_NM_PATROL BORO BRONX  PATRL_BORO_NM_PATROL BORO MAN NORTH  \\\n",
              "0                                     0                                    0   \n",
              "1                                     0                                    0   \n",
              "2                                     0                                    1   \n",
              "3                                     0                                    0   \n",
              "4                                     0                                    0   \n",
              "...                                 ...                                  ...   \n",
              "500450                                0                                    0   \n",
              "500451                                0                                    0   \n",
              "500452                                0                                    0   \n",
              "500453                                1                                    0   \n",
              "500454                                0                                    1   \n",
              "\n",
              "        PATRL_BORO_NM_PATROL BORO MAN SOUTH  \\\n",
              "0                                         0   \n",
              "1                                         0   \n",
              "2                                         0   \n",
              "3                                         0   \n",
              "4                                         0   \n",
              "...                                     ...   \n",
              "500450                                    0   \n",
              "500451                                    0   \n",
              "500452                                    1   \n",
              "500453                                    0   \n",
              "500454                                    0   \n",
              "\n",
              "        PATRL_BORO_NM_PATROL BORO QUEENS NORTH  \\\n",
              "0                                            0   \n",
              "1                                            0   \n",
              "2                                            0   \n",
              "3                                            0   \n",
              "4                                            1   \n",
              "...                                        ...   \n",
              "500450                                       1   \n",
              "500451                                       1   \n",
              "500452                                       0   \n",
              "500453                                       0   \n",
              "500454                                       0   \n",
              "\n",
              "        PATRL_BORO_NM_PATROL BORO QUEENS SOUTH  \\\n",
              "0                                            1   \n",
              "1                                            0   \n",
              "2                                            0   \n",
              "3                                            1   \n",
              "4                                            0   \n",
              "...                                        ...   \n",
              "500450                                       0   \n",
              "500451                                       0   \n",
              "500452                                       0   \n",
              "500453                                       0   \n",
              "500454                                       0   \n",
              "\n",
              "        PATRL_BORO_NM_PATROL BORO STATEN ISLAND  Labels  \n",
              "0                                             0       1  \n",
              "1                                             0       8  \n",
              "2                                             0       7  \n",
              "3                                             0       1  \n",
              "4                                             0       6  \n",
              "...                                         ...     ...  \n",
              "500450                                        0       8  \n",
              "500451                                        0       7  \n",
              "500452                                        0       0  \n",
              "500453                                        0       2  \n",
              "500454                                        0       7  \n",
              "\n",
              "[500455 rows x 15 columns]"
            ],
            "text/html": [
              "\n",
              "  <div id=\"df-067a83b4-012f-4e21-9957-8493f2bea52e\">\n",
              "    <div class=\"colab-df-container\">\n",
              "      <div>\n",
              "<style scoped>\n",
              "    .dataframe tbody tr th:only-of-type {\n",
              "        vertical-align: middle;\n",
              "    }\n",
              "\n",
              "    .dataframe tbody tr th {\n",
              "        vertical-align: top;\n",
              "    }\n",
              "\n",
              "    .dataframe thead th {\n",
              "        text-align: right;\n",
              "    }\n",
              "</style>\n",
              "<table border=\"1\" class=\"dataframe\">\n",
              "  <thead>\n",
              "    <tr style=\"text-align: right;\">\n",
              "      <th></th>\n",
              "      <th>CAD_EVNT_ID</th>\n",
              "      <th>RADIO_CODE</th>\n",
              "      <th>ARRIVD_TS</th>\n",
              "      <th>Latitude</th>\n",
              "      <th>Longitude</th>\n",
              "      <th>INCIDENT_DATE_TIME</th>\n",
              "      <th>PATRL_BORO_NM_PATROL BORO BKLYN NORTH</th>\n",
              "      <th>PATRL_BORO_NM_PATROL BORO BKLYN SOUTH</th>\n",
              "      <th>PATRL_BORO_NM_PATROL BORO BRONX</th>\n",
              "      <th>PATRL_BORO_NM_PATROL BORO MAN NORTH</th>\n",
              "      <th>PATRL_BORO_NM_PATROL BORO MAN SOUTH</th>\n",
              "      <th>PATRL_BORO_NM_PATROL BORO QUEENS NORTH</th>\n",
              "      <th>PATRL_BORO_NM_PATROL BORO QUEENS SOUTH</th>\n",
              "      <th>PATRL_BORO_NM_PATROL BORO STATEN ISLAND</th>\n",
              "      <th>Labels</th>\n",
              "    </tr>\n",
              "  </thead>\n",
              "  <tbody>\n",
              "    <tr>\n",
              "      <th>0</th>\n",
              "      <td>75781251</td>\n",
              "      <td>29Q1</td>\n",
              "      <td>2021-03-24 20:10:33</td>\n",
              "      <td>40.665504</td>\n",
              "      <td>-73.755437</td>\n",
              "      <td>2021-03-24 19:49:06</td>\n",
              "      <td>0</td>\n",
              "      <td>0</td>\n",
              "      <td>0</td>\n",
              "      <td>0</td>\n",
              "      <td>0</td>\n",
              "      <td>0</td>\n",
              "      <td>1</td>\n",
              "      <td>0</td>\n",
              "      <td>1</td>\n",
              "    </tr>\n",
              "    <tr>\n",
              "      <th>1</th>\n",
              "      <td>79375430</td>\n",
              "      <td>53D</td>\n",
              "      <td>2021-08-26 12:39:22</td>\n",
              "      <td>40.625626</td>\n",
              "      <td>-73.915499</td>\n",
              "      <td>2021-08-26 12:25:56</td>\n",
              "      <td>0</td>\n",
              "      <td>1</td>\n",
              "      <td>0</td>\n",
              "      <td>0</td>\n",
              "      <td>0</td>\n",
              "      <td>0</td>\n",
              "      <td>0</td>\n",
              "      <td>0</td>\n",
              "      <td>8</td>\n",
              "    </tr>\n",
              "    <tr>\n",
              "      <th>2</th>\n",
              "      <td>77407811</td>\n",
              "      <td>24Q2</td>\n",
              "      <td>2021-06-04 16:28:27</td>\n",
              "      <td>40.788134</td>\n",
              "      <td>-73.945602</td>\n",
              "      <td>2021-06-04 16:24:23</td>\n",
              "      <td>0</td>\n",
              "      <td>0</td>\n",
              "      <td>0</td>\n",
              "      <td>1</td>\n",
              "      <td>0</td>\n",
              "      <td>0</td>\n",
              "      <td>0</td>\n",
              "      <td>0</td>\n",
              "      <td>7</td>\n",
              "    </tr>\n",
              "    <tr>\n",
              "      <th>3</th>\n",
              "      <td>76177095</td>\n",
              "      <td>29H1</td>\n",
              "      <td>2021-04-11 17:25:07</td>\n",
              "      <td>40.677098</td>\n",
              "      <td>-73.825040</td>\n",
              "      <td>2021-04-11 17:19:50</td>\n",
              "      <td>0</td>\n",
              "      <td>0</td>\n",
              "      <td>0</td>\n",
              "      <td>0</td>\n",
              "      <td>0</td>\n",
              "      <td>0</td>\n",
              "      <td>1</td>\n",
              "      <td>0</td>\n",
              "      <td>1</td>\n",
              "    </tr>\n",
              "    <tr>\n",
              "      <th>4</th>\n",
              "      <td>79879502</td>\n",
              "      <td>24Q2</td>\n",
              "      <td>2021-09-17 01:22:38</td>\n",
              "      <td>40.707385</td>\n",
              "      <td>-73.873772</td>\n",
              "      <td>2021-09-17 00:33:16</td>\n",
              "      <td>0</td>\n",
              "      <td>0</td>\n",
              "      <td>0</td>\n",
              "      <td>0</td>\n",
              "      <td>0</td>\n",
              "      <td>1</td>\n",
              "      <td>0</td>\n",
              "      <td>0</td>\n",
              "      <td>6</td>\n",
              "    </tr>\n",
              "    <tr>\n",
              "      <th>...</th>\n",
              "      <td>...</td>\n",
              "      <td>...</td>\n",
              "      <td>...</td>\n",
              "      <td>...</td>\n",
              "      <td>...</td>\n",
              "      <td>...</td>\n",
              "      <td>...</td>\n",
              "      <td>...</td>\n",
              "      <td>...</td>\n",
              "      <td>...</td>\n",
              "      <td>...</td>\n",
              "      <td>...</td>\n",
              "      <td>...</td>\n",
              "      <td>...</td>\n",
              "      <td>...</td>\n",
              "    </tr>\n",
              "    <tr>\n",
              "      <th>500450</th>\n",
              "      <td>79014233</td>\n",
              "      <td>24Q2</td>\n",
              "      <td>2021-08-10 19:37:19</td>\n",
              "      <td>40.694553</td>\n",
              "      <td>-73.898867</td>\n",
              "      <td>2021-08-10 19:21:35</td>\n",
              "      <td>0</td>\n",
              "      <td>0</td>\n",
              "      <td>0</td>\n",
              "      <td>0</td>\n",
              "      <td>0</td>\n",
              "      <td>1</td>\n",
              "      <td>0</td>\n",
              "      <td>0</td>\n",
              "      <td>8</td>\n",
              "    </tr>\n",
              "    <tr>\n",
              "      <th>500451</th>\n",
              "      <td>79499944</td>\n",
              "      <td>53D</td>\n",
              "      <td>2021-08-31 23:02:14</td>\n",
              "      <td>40.745196</td>\n",
              "      <td>-73.927784</td>\n",
              "      <td>2021-08-31 21:34:16</td>\n",
              "      <td>0</td>\n",
              "      <td>0</td>\n",
              "      <td>0</td>\n",
              "      <td>0</td>\n",
              "      <td>0</td>\n",
              "      <td>1</td>\n",
              "      <td>0</td>\n",
              "      <td>0</td>\n",
              "      <td>7</td>\n",
              "    </tr>\n",
              "    <tr>\n",
              "      <th>500452</th>\n",
              "      <td>77725606</td>\n",
              "      <td>22Q2</td>\n",
              "      <td>2021-06-17 12:36:03</td>\n",
              "      <td>40.745631</td>\n",
              "      <td>-73.998248</td>\n",
              "      <td>2021-06-17 12:08:21</td>\n",
              "      <td>0</td>\n",
              "      <td>0</td>\n",
              "      <td>0</td>\n",
              "      <td>0</td>\n",
              "      <td>1</td>\n",
              "      <td>0</td>\n",
              "      <td>0</td>\n",
              "      <td>0</td>\n",
              "      <td>0</td>\n",
              "    </tr>\n",
              "    <tr>\n",
              "      <th>500453</th>\n",
              "      <td>77969063</td>\n",
              "      <td>22Q2</td>\n",
              "      <td>2021-06-27 12:10:14</td>\n",
              "      <td>40.823500</td>\n",
              "      <td>-73.858619</td>\n",
              "      <td>2021-06-27 12:04:29</td>\n",
              "      <td>0</td>\n",
              "      <td>0</td>\n",
              "      <td>1</td>\n",
              "      <td>0</td>\n",
              "      <td>0</td>\n",
              "      <td>0</td>\n",
              "      <td>0</td>\n",
              "      <td>0</td>\n",
              "      <td>2</td>\n",
              "    </tr>\n",
              "    <tr>\n",
              "      <th>500454</th>\n",
              "      <td>76309324</td>\n",
              "      <td>10S2</td>\n",
              "      <td>2021-04-17 22:16:39</td>\n",
              "      <td>40.820370</td>\n",
              "      <td>-73.938133</td>\n",
              "      <td>2021-04-17 22:15:40</td>\n",
              "      <td>0</td>\n",
              "      <td>0</td>\n",
              "      <td>0</td>\n",
              "      <td>1</td>\n",
              "      <td>0</td>\n",
              "      <td>0</td>\n",
              "      <td>0</td>\n",
              "      <td>0</td>\n",
              "      <td>7</td>\n",
              "    </tr>\n",
              "  </tbody>\n",
              "</table>\n",
              "<p>500455 rows × 15 columns</p>\n",
              "</div>\n",
              "      <button class=\"colab-df-convert\" onclick=\"convertToInteractive('df-067a83b4-012f-4e21-9957-8493f2bea52e')\"\n",
              "              title=\"Convert this dataframe to an interactive table.\"\n",
              "              style=\"display:none;\">\n",
              "        \n",
              "  <svg xmlns=\"http://www.w3.org/2000/svg\" height=\"24px\"viewBox=\"0 0 24 24\"\n",
              "       width=\"24px\">\n",
              "    <path d=\"M0 0h24v24H0V0z\" fill=\"none\"/>\n",
              "    <path d=\"M18.56 5.44l.94 2.06.94-2.06 2.06-.94-2.06-.94-.94-2.06-.94 2.06-2.06.94zm-11 1L8.5 8.5l.94-2.06 2.06-.94-2.06-.94L8.5 2.5l-.94 2.06-2.06.94zm10 10l.94 2.06.94-2.06 2.06-.94-2.06-.94-.94-2.06-.94 2.06-2.06.94z\"/><path d=\"M17.41 7.96l-1.37-1.37c-.4-.4-.92-.59-1.43-.59-.52 0-1.04.2-1.43.59L10.3 9.45l-7.72 7.72c-.78.78-.78 2.05 0 2.83L4 21.41c.39.39.9.59 1.41.59.51 0 1.02-.2 1.41-.59l7.78-7.78 2.81-2.81c.8-.78.8-2.07 0-2.86zM5.41 20L4 18.59l7.72-7.72 1.47 1.35L5.41 20z\"/>\n",
              "  </svg>\n",
              "      </button>\n",
              "      \n",
              "  <style>\n",
              "    .colab-df-container {\n",
              "      display:flex;\n",
              "      flex-wrap:wrap;\n",
              "      gap: 12px;\n",
              "    }\n",
              "\n",
              "    .colab-df-convert {\n",
              "      background-color: #E8F0FE;\n",
              "      border: none;\n",
              "      border-radius: 50%;\n",
              "      cursor: pointer;\n",
              "      display: none;\n",
              "      fill: #1967D2;\n",
              "      height: 32px;\n",
              "      padding: 0 0 0 0;\n",
              "      width: 32px;\n",
              "    }\n",
              "\n",
              "    .colab-df-convert:hover {\n",
              "      background-color: #E2EBFA;\n",
              "      box-shadow: 0px 1px 2px rgba(60, 64, 67, 0.3), 0px 1px 3px 1px rgba(60, 64, 67, 0.15);\n",
              "      fill: #174EA6;\n",
              "    }\n",
              "\n",
              "    [theme=dark] .colab-df-convert {\n",
              "      background-color: #3B4455;\n",
              "      fill: #D2E3FC;\n",
              "    }\n",
              "\n",
              "    [theme=dark] .colab-df-convert:hover {\n",
              "      background-color: #434B5C;\n",
              "      box-shadow: 0px 1px 3px 1px rgba(0, 0, 0, 0.15);\n",
              "      filter: drop-shadow(0px 1px 2px rgba(0, 0, 0, 0.3));\n",
              "      fill: #FFFFFF;\n",
              "    }\n",
              "  </style>\n",
              "\n",
              "      <script>\n",
              "        const buttonEl =\n",
              "          document.querySelector('#df-067a83b4-012f-4e21-9957-8493f2bea52e button.colab-df-convert');\n",
              "        buttonEl.style.display =\n",
              "          google.colab.kernel.accessAllowed ? 'block' : 'none';\n",
              "\n",
              "        async function convertToInteractive(key) {\n",
              "          const element = document.querySelector('#df-067a83b4-012f-4e21-9957-8493f2bea52e');\n",
              "          const dataTable =\n",
              "            await google.colab.kernel.invokeFunction('convertToInteractive',\n",
              "                                                     [key], {});\n",
              "          if (!dataTable) return;\n",
              "\n",
              "          const docLinkHtml = 'Like what you see? Visit the ' +\n",
              "            '<a target=\"_blank\" href=https://colab.research.google.com/notebooks/data_table.ipynb>data table notebook</a>'\n",
              "            + ' to learn more about interactive tables.';\n",
              "          element.innerHTML = '';\n",
              "          dataTable['output_type'] = 'display_data';\n",
              "          await google.colab.output.renderOutput(dataTable, element);\n",
              "          const docLink = document.createElement('div');\n",
              "          docLink.innerHTML = docLinkHtml;\n",
              "          element.appendChild(docLink);\n",
              "        }\n",
              "      </script>\n",
              "    </div>\n",
              "  </div>\n",
              "  "
            ]
          },
          "metadata": {},
          "execution_count": 25
        }
      ]
    },
    {
      "cell_type": "code",
      "source": [
        "x_merged.to_csv('merged_with_categories',index=False)"
      ],
      "metadata": {
        "id": "5y-H96r5DCwR"
      },
      "execution_count": null,
      "outputs": []
    },
    {
      "cell_type": "code",
      "source": [
        "x[\"Labels\"].value_counts()"
      ],
      "metadata": {
        "id": "blMPdHYJDC0S"
      },
      "execution_count": null,
      "outputs": []
    },
    {
      "cell_type": "markdown",
      "source": [
        "# DB Scan"
      ],
      "metadata": {
        "id": "fZG52KUJchz-"
      }
    },
    {
      "cell_type": "code",
      "source": [
        "# # changing the random samples to 500k\n",
        "# # reading entire dataset\n",
        "# import pandas as pd\n",
        "# !pip install -U -q PyDrive\n",
        "# from pydrive.auth import GoogleAuth\n",
        "# from pydrive.drive import GoogleDrive\n",
        "# from google.colab import auth\n",
        "# from oauth2client.client import GoogleCredentials\n",
        "# auth.authenticate_user()\n",
        "# gauth = GoogleAuth()\n",
        "# gauth.credentials = GoogleCredentials.get_application_default()\n",
        "# drive = GoogleDrive(gauth)\n",
        "# link = 'https://drive.google.com/file/d/1NXyZszBLNBkuhVV3fj1SNiTBOSdtkAHD/view?usp=sharing%27'\n",
        "\n",
        "# id = link.split(\"/\")[-2]\n",
        "\n",
        "# downloaded = drive.CreateFile({'id':id})\n",
        "# downloaded.GetContentFile('NYPD_Calls_for_Service__Year_to_Date_.csv')\n",
        "\n",
        "# df = pd.read_csv('NYPD_Calls_for_Service__Year_to_Date_.csv')"
      ],
      "metadata": {
        "id": "nMYEvBkCegey"
      },
      "execution_count": null,
      "outputs": []
    },
    {
      "cell_type": "code",
      "source": [
        "# #reading data after prepro\n",
        "# import pandas as pd\n",
        "# !pip install -U -q PyDrive\n",
        "# from pydrive.auth import GoogleAuth\n",
        "# from pydrive.drive import GoogleDrive\n",
        "# from google.colab import auth\n",
        "# from oauth2client.client import GoogleCredentials\n",
        "# auth.authenticate_user()\n",
        "# gauth = GoogleAuth()\n",
        "# gauth.credentials = GoogleCredentials.get_application_default()\n",
        "# drive = GoogleDrive(gauth)\n",
        "# link = 'https://drive.google.com/file/d/1ENQyS4FYMLjw5mTK-V-CY67Hrx2L1Hu0/view?usp=sharing'\n",
        "\n",
        "# id = link.split(\"/\")[-2]\n",
        "\n",
        "# downloaded = drive.CreateFile({'id':id})\n",
        "# downloaded.GetContentFile('df_after_conversion.csv')\n",
        "\n",
        "# df_prepro = pd.read_csv('df_after_conversion.csv')"
      ],
      "metadata": {
        "id": "Kc6sLqPHxDwM"
      },
      "execution_count": null,
      "outputs": []
    },
    {
      "cell_type": "code",
      "source": [
        "df.shape"
      ],
      "metadata": {
        "id": "Yer21mzhfRUh"
      },
      "execution_count": null,
      "outputs": []
    },
    {
      "cell_type": "code",
      "source": [
        "#sampling code- taking only lat and lon columns\n",
        "x = df[['CAD_EVNT_ID','Latitude','Longitude']]\n",
        "x"
      ],
      "metadata": {
        "id": "axniOVIifGo9",
        "colab": {
          "base_uri": "https://localhost:8080/",
          "height": 424
        },
        "outputId": "ac22b760-d531-499a-b8f9-356317dcd609"
      },
      "execution_count": null,
      "outputs": [
        {
          "output_type": "execute_result",
          "data": {
            "text/plain": [
              "        CAD_EVNT_ID   Latitude  Longitude\n",
              "0          75781251  40.665504 -73.755437\n",
              "1          79375430  40.625626 -73.915499\n",
              "2          77407811  40.788134 -73.945602\n",
              "3          76177095  40.677098 -73.825040\n",
              "4          79879502  40.707385 -73.873772\n",
              "...             ...        ...        ...\n",
              "500450     79014233  40.694553 -73.898867\n",
              "500451     79499944  40.745196 -73.927784\n",
              "500452     77725606  40.745631 -73.998248\n",
              "500453     77969063  40.823500 -73.858619\n",
              "500454     76309324  40.820370 -73.938133\n",
              "\n",
              "[500455 rows x 3 columns]"
            ],
            "text/html": [
              "\n",
              "  <div id=\"df-e091f465-7f4d-4459-845f-673461b72a1b\">\n",
              "    <div class=\"colab-df-container\">\n",
              "      <div>\n",
              "<style scoped>\n",
              "    .dataframe tbody tr th:only-of-type {\n",
              "        vertical-align: middle;\n",
              "    }\n",
              "\n",
              "    .dataframe tbody tr th {\n",
              "        vertical-align: top;\n",
              "    }\n",
              "\n",
              "    .dataframe thead th {\n",
              "        text-align: right;\n",
              "    }\n",
              "</style>\n",
              "<table border=\"1\" class=\"dataframe\">\n",
              "  <thead>\n",
              "    <tr style=\"text-align: right;\">\n",
              "      <th></th>\n",
              "      <th>CAD_EVNT_ID</th>\n",
              "      <th>Latitude</th>\n",
              "      <th>Longitude</th>\n",
              "    </tr>\n",
              "  </thead>\n",
              "  <tbody>\n",
              "    <tr>\n",
              "      <th>0</th>\n",
              "      <td>75781251</td>\n",
              "      <td>40.665504</td>\n",
              "      <td>-73.755437</td>\n",
              "    </tr>\n",
              "    <tr>\n",
              "      <th>1</th>\n",
              "      <td>79375430</td>\n",
              "      <td>40.625626</td>\n",
              "      <td>-73.915499</td>\n",
              "    </tr>\n",
              "    <tr>\n",
              "      <th>2</th>\n",
              "      <td>77407811</td>\n",
              "      <td>40.788134</td>\n",
              "      <td>-73.945602</td>\n",
              "    </tr>\n",
              "    <tr>\n",
              "      <th>3</th>\n",
              "      <td>76177095</td>\n",
              "      <td>40.677098</td>\n",
              "      <td>-73.825040</td>\n",
              "    </tr>\n",
              "    <tr>\n",
              "      <th>4</th>\n",
              "      <td>79879502</td>\n",
              "      <td>40.707385</td>\n",
              "      <td>-73.873772</td>\n",
              "    </tr>\n",
              "    <tr>\n",
              "      <th>...</th>\n",
              "      <td>...</td>\n",
              "      <td>...</td>\n",
              "      <td>...</td>\n",
              "    </tr>\n",
              "    <tr>\n",
              "      <th>500450</th>\n",
              "      <td>79014233</td>\n",
              "      <td>40.694553</td>\n",
              "      <td>-73.898867</td>\n",
              "    </tr>\n",
              "    <tr>\n",
              "      <th>500451</th>\n",
              "      <td>79499944</td>\n",
              "      <td>40.745196</td>\n",
              "      <td>-73.927784</td>\n",
              "    </tr>\n",
              "    <tr>\n",
              "      <th>500452</th>\n",
              "      <td>77725606</td>\n",
              "      <td>40.745631</td>\n",
              "      <td>-73.998248</td>\n",
              "    </tr>\n",
              "    <tr>\n",
              "      <th>500453</th>\n",
              "      <td>77969063</td>\n",
              "      <td>40.823500</td>\n",
              "      <td>-73.858619</td>\n",
              "    </tr>\n",
              "    <tr>\n",
              "      <th>500454</th>\n",
              "      <td>76309324</td>\n",
              "      <td>40.820370</td>\n",
              "      <td>-73.938133</td>\n",
              "    </tr>\n",
              "  </tbody>\n",
              "</table>\n",
              "<p>500455 rows × 3 columns</p>\n",
              "</div>\n",
              "      <button class=\"colab-df-convert\" onclick=\"convertToInteractive('df-e091f465-7f4d-4459-845f-673461b72a1b')\"\n",
              "              title=\"Convert this dataframe to an interactive table.\"\n",
              "              style=\"display:none;\">\n",
              "        \n",
              "  <svg xmlns=\"http://www.w3.org/2000/svg\" height=\"24px\"viewBox=\"0 0 24 24\"\n",
              "       width=\"24px\">\n",
              "    <path d=\"M0 0h24v24H0V0z\" fill=\"none\"/>\n",
              "    <path d=\"M18.56 5.44l.94 2.06.94-2.06 2.06-.94-2.06-.94-.94-2.06-.94 2.06-2.06.94zm-11 1L8.5 8.5l.94-2.06 2.06-.94-2.06-.94L8.5 2.5l-.94 2.06-2.06.94zm10 10l.94 2.06.94-2.06 2.06-.94-2.06-.94-.94-2.06-.94 2.06-2.06.94z\"/><path d=\"M17.41 7.96l-1.37-1.37c-.4-.4-.92-.59-1.43-.59-.52 0-1.04.2-1.43.59L10.3 9.45l-7.72 7.72c-.78.78-.78 2.05 0 2.83L4 21.41c.39.39.9.59 1.41.59.51 0 1.02-.2 1.41-.59l7.78-7.78 2.81-2.81c.8-.78.8-2.07 0-2.86zM5.41 20L4 18.59l7.72-7.72 1.47 1.35L5.41 20z\"/>\n",
              "  </svg>\n",
              "      </button>\n",
              "      \n",
              "  <style>\n",
              "    .colab-df-container {\n",
              "      display:flex;\n",
              "      flex-wrap:wrap;\n",
              "      gap: 12px;\n",
              "    }\n",
              "\n",
              "    .colab-df-convert {\n",
              "      background-color: #E8F0FE;\n",
              "      border: none;\n",
              "      border-radius: 50%;\n",
              "      cursor: pointer;\n",
              "      display: none;\n",
              "      fill: #1967D2;\n",
              "      height: 32px;\n",
              "      padding: 0 0 0 0;\n",
              "      width: 32px;\n",
              "    }\n",
              "\n",
              "    .colab-df-convert:hover {\n",
              "      background-color: #E2EBFA;\n",
              "      box-shadow: 0px 1px 2px rgba(60, 64, 67, 0.3), 0px 1px 3px 1px rgba(60, 64, 67, 0.15);\n",
              "      fill: #174EA6;\n",
              "    }\n",
              "\n",
              "    [theme=dark] .colab-df-convert {\n",
              "      background-color: #3B4455;\n",
              "      fill: #D2E3FC;\n",
              "    }\n",
              "\n",
              "    [theme=dark] .colab-df-convert:hover {\n",
              "      background-color: #434B5C;\n",
              "      box-shadow: 0px 1px 3px 1px rgba(0, 0, 0, 0.15);\n",
              "      filter: drop-shadow(0px 1px 2px rgba(0, 0, 0, 0.3));\n",
              "      fill: #FFFFFF;\n",
              "    }\n",
              "  </style>\n",
              "\n",
              "      <script>\n",
              "        const buttonEl =\n",
              "          document.querySelector('#df-e091f465-7f4d-4459-845f-673461b72a1b button.colab-df-convert');\n",
              "        buttonEl.style.display =\n",
              "          google.colab.kernel.accessAllowed ? 'block' : 'none';\n",
              "\n",
              "        async function convertToInteractive(key) {\n",
              "          const element = document.querySelector('#df-e091f465-7f4d-4459-845f-673461b72a1b');\n",
              "          const dataTable =\n",
              "            await google.colab.kernel.invokeFunction('convertToInteractive',\n",
              "                                                     [key], {});\n",
              "          if (!dataTable) return;\n",
              "\n",
              "          const docLinkHtml = 'Like what you see? Visit the ' +\n",
              "            '<a target=\"_blank\" href=https://colab.research.google.com/notebooks/data_table.ipynb>data table notebook</a>'\n",
              "            + ' to learn more about interactive tables.';\n",
              "          element.innerHTML = '';\n",
              "          dataTable['output_type'] = 'display_data';\n",
              "          await google.colab.output.renderOutput(dataTable, element);\n",
              "          const docLink = document.createElement('div');\n",
              "          docLink.innerHTML = docLinkHtml;\n",
              "          element.appendChild(docLink);\n",
              "        }\n",
              "      </script>\n",
              "    </div>\n",
              "  </div>\n",
              "  "
            ]
          },
          "metadata": {},
          "execution_count": 9
        }
      ]
    },
    {
      "cell_type": "code",
      "source": [
        "#code for DBSCAN algorithm"
      ],
      "metadata": {
        "id": "6ONEA2Y4fiSN"
      },
      "execution_count": null,
      "outputs": []
    },
    {
      "cell_type": "code",
      "source": [
        "# 2300:13, 2000:20, 1600:21\n",
        "from sklearn.cluster import DBSCAN\n",
        "db_default = DBSCAN(eps = 0.005, min_samples = 800).fit(x[['Latitude','Longitude']])\n",
        "labels = db_default.labels_"
      ],
      "metadata": {
        "id": "x5Q-GGoMdtdQ"
      },
      "execution_count": null,
      "outputs": []
    },
    {
      "cell_type": "code",
      "source": [
        "# printing the labels generated\n",
        "#print(labels)\n",
        "set(labels)"
      ],
      "metadata": {
        "id": "5CnINpjVBcKE",
        "colab": {
          "base_uri": "https://localhost:8080/"
        },
        "outputId": "6c339085-4904-4437-9254-87e7bb044484"
      },
      "execution_count": null,
      "outputs": [
        {
          "output_type": "execute_result",
          "data": {
            "text/plain": [
              "{-1,\n",
              " 0,\n",
              " 1,\n",
              " 2,\n",
              " 3,\n",
              " 4,\n",
              " 5,\n",
              " 6,\n",
              " 7,\n",
              " 8,\n",
              " 9,\n",
              " 10,\n",
              " 11,\n",
              " 12,\n",
              " 13,\n",
              " 14,\n",
              " 15,\n",
              " 16,\n",
              " 17,\n",
              " 18,\n",
              " 19,\n",
              " 20,\n",
              " 21,\n",
              " 22}"
            ]
          },
          "metadata": {},
          "execution_count": 11
        }
      ]
    },
    {
      "cell_type": "code",
      "source": [
        "x[\"Labels\"] = labels\n",
        "x_drop = x.drop(columns=['Latitude','Longitude'],axis=1)\n",
        "x_merged = pd.merge(df_prepro,x_drop,how='inner',on='CAD_EVNT_ID')\n",
        "x_merged"
      ],
      "metadata": {
        "id": "TmcIpJRJseWK",
        "colab": {
          "base_uri": "https://localhost:8080/",
          "height": 956
        },
        "outputId": "1753900b-fc1f-4c07-9630-0704c0596344"
      },
      "execution_count": null,
      "outputs": [
        {
          "output_type": "stream",
          "name": "stderr",
          "text": [
            "/usr/local/lib/python3.7/dist-packages/ipykernel_launcher.py:1: SettingWithCopyWarning: \n",
            "A value is trying to be set on a copy of a slice from a DataFrame.\n",
            "Try using .loc[row_indexer,col_indexer] = value instead\n",
            "\n",
            "See the caveats in the documentation: https://pandas.pydata.org/pandas-docs/stable/user_guide/indexing.html#returning-a-view-versus-a-copy\n",
            "  \"\"\"Entry point for launching an IPython kernel.\n"
          ]
        },
        {
          "output_type": "execute_result",
          "data": {
            "text/plain": [
              "        CAD_EVNT_ID RADIO_CODE            ARRIVD_TS   Latitude  Longitude  \\\n",
              "0          75781251       29Q1  2021-03-24 20:10:33  40.665504 -73.755437   \n",
              "1          79375430        53D  2021-08-26 12:39:22  40.625626 -73.915499   \n",
              "2          77407811       24Q2  2021-06-04 16:28:27  40.788134 -73.945602   \n",
              "3          76177095       29H1  2021-04-11 17:25:07  40.677098 -73.825040   \n",
              "4          79879502       24Q2  2021-09-17 01:22:38  40.707385 -73.873772   \n",
              "...             ...        ...                  ...        ...        ...   \n",
              "500450     79014233       24Q2  2021-08-10 19:37:19  40.694553 -73.898867   \n",
              "500451     79499944        53D  2021-08-31 23:02:14  40.745196 -73.927784   \n",
              "500452     77725606       22Q2  2021-06-17 12:36:03  40.745631 -73.998248   \n",
              "500453     77969063       22Q2  2021-06-27 12:10:14  40.823500 -73.858619   \n",
              "500454     76309324       10S2  2021-04-17 22:16:39  40.820370 -73.938133   \n",
              "\n",
              "         INCIDENT_DATE_TIME  PATRL_BORO_NM_PATROL BORO BKLYN NORTH  \\\n",
              "0       2021-03-24 19:49:06                                      0   \n",
              "1       2021-08-26 12:25:56                                      0   \n",
              "2       2021-06-04 16:24:23                                      0   \n",
              "3       2021-04-11 17:19:50                                      0   \n",
              "4       2021-09-17 00:33:16                                      0   \n",
              "...                     ...                                    ...   \n",
              "500450  2021-08-10 19:21:35                                      0   \n",
              "500451  2021-08-31 21:34:16                                      0   \n",
              "500452  2021-06-17 12:08:21                                      0   \n",
              "500453  2021-06-27 12:04:29                                      0   \n",
              "500454  2021-04-17 22:15:40                                      0   \n",
              "\n",
              "        PATRL_BORO_NM_PATROL BORO BKLYN SOUTH  \\\n",
              "0                                           0   \n",
              "1                                           1   \n",
              "2                                           0   \n",
              "3                                           0   \n",
              "4                                           0   \n",
              "...                                       ...   \n",
              "500450                                      0   \n",
              "500451                                      0   \n",
              "500452                                      0   \n",
              "500453                                      0   \n",
              "500454                                      0   \n",
              "\n",
              "        PATRL_BORO_NM_PATROL BORO BRONX  PATRL_BORO_NM_PATROL BORO MAN NORTH  \\\n",
              "0                                     0                                    0   \n",
              "1                                     0                                    0   \n",
              "2                                     0                                    1   \n",
              "3                                     0                                    0   \n",
              "4                                     0                                    0   \n",
              "...                                 ...                                  ...   \n",
              "500450                                0                                    0   \n",
              "500451                                0                                    0   \n",
              "500452                                0                                    0   \n",
              "500453                                1                                    0   \n",
              "500454                                0                                    1   \n",
              "\n",
              "        PATRL_BORO_NM_PATROL BORO MAN SOUTH  \\\n",
              "0                                         0   \n",
              "1                                         0   \n",
              "2                                         0   \n",
              "3                                         0   \n",
              "4                                         0   \n",
              "...                                     ...   \n",
              "500450                                    0   \n",
              "500451                                    0   \n",
              "500452                                    1   \n",
              "500453                                    0   \n",
              "500454                                    0   \n",
              "\n",
              "        PATRL_BORO_NM_PATROL BORO QUEENS NORTH  \\\n",
              "0                                            0   \n",
              "1                                            0   \n",
              "2                                            0   \n",
              "3                                            0   \n",
              "4                                            1   \n",
              "...                                        ...   \n",
              "500450                                       1   \n",
              "500451                                       1   \n",
              "500452                                       0   \n",
              "500453                                       0   \n",
              "500454                                       0   \n",
              "\n",
              "        PATRL_BORO_NM_PATROL BORO QUEENS SOUTH  \\\n",
              "0                                            1   \n",
              "1                                            0   \n",
              "2                                            0   \n",
              "3                                            1   \n",
              "4                                            0   \n",
              "...                                        ...   \n",
              "500450                                       0   \n",
              "500451                                       0   \n",
              "500452                                       0   \n",
              "500453                                       0   \n",
              "500454                                       0   \n",
              "\n",
              "        PATRL_BORO_NM_PATROL BORO STATEN ISLAND  Labels  \n",
              "0                                             0      -1  \n",
              "1                                             0      -1  \n",
              "2                                             0       0  \n",
              "3                                             0      -1  \n",
              "4                                             0      -1  \n",
              "...                                         ...     ...  \n",
              "500450                                        0      -1  \n",
              "500451                                        0      17  \n",
              "500452                                        0       0  \n",
              "500453                                        0       0  \n",
              "500454                                        0       0  \n",
              "\n",
              "[500455 rows x 15 columns]"
            ],
            "text/html": [
              "\n",
              "  <div id=\"df-6c153906-a02b-4fe8-bde3-98b032cccfc8\">\n",
              "    <div class=\"colab-df-container\">\n",
              "      <div>\n",
              "<style scoped>\n",
              "    .dataframe tbody tr th:only-of-type {\n",
              "        vertical-align: middle;\n",
              "    }\n",
              "\n",
              "    .dataframe tbody tr th {\n",
              "        vertical-align: top;\n",
              "    }\n",
              "\n",
              "    .dataframe thead th {\n",
              "        text-align: right;\n",
              "    }\n",
              "</style>\n",
              "<table border=\"1\" class=\"dataframe\">\n",
              "  <thead>\n",
              "    <tr style=\"text-align: right;\">\n",
              "      <th></th>\n",
              "      <th>CAD_EVNT_ID</th>\n",
              "      <th>RADIO_CODE</th>\n",
              "      <th>ARRIVD_TS</th>\n",
              "      <th>Latitude</th>\n",
              "      <th>Longitude</th>\n",
              "      <th>INCIDENT_DATE_TIME</th>\n",
              "      <th>PATRL_BORO_NM_PATROL BORO BKLYN NORTH</th>\n",
              "      <th>PATRL_BORO_NM_PATROL BORO BKLYN SOUTH</th>\n",
              "      <th>PATRL_BORO_NM_PATROL BORO BRONX</th>\n",
              "      <th>PATRL_BORO_NM_PATROL BORO MAN NORTH</th>\n",
              "      <th>PATRL_BORO_NM_PATROL BORO MAN SOUTH</th>\n",
              "      <th>PATRL_BORO_NM_PATROL BORO QUEENS NORTH</th>\n",
              "      <th>PATRL_BORO_NM_PATROL BORO QUEENS SOUTH</th>\n",
              "      <th>PATRL_BORO_NM_PATROL BORO STATEN ISLAND</th>\n",
              "      <th>Labels</th>\n",
              "    </tr>\n",
              "  </thead>\n",
              "  <tbody>\n",
              "    <tr>\n",
              "      <th>0</th>\n",
              "      <td>75781251</td>\n",
              "      <td>29Q1</td>\n",
              "      <td>2021-03-24 20:10:33</td>\n",
              "      <td>40.665504</td>\n",
              "      <td>-73.755437</td>\n",
              "      <td>2021-03-24 19:49:06</td>\n",
              "      <td>0</td>\n",
              "      <td>0</td>\n",
              "      <td>0</td>\n",
              "      <td>0</td>\n",
              "      <td>0</td>\n",
              "      <td>0</td>\n",
              "      <td>1</td>\n",
              "      <td>0</td>\n",
              "      <td>-1</td>\n",
              "    </tr>\n",
              "    <tr>\n",
              "      <th>1</th>\n",
              "      <td>79375430</td>\n",
              "      <td>53D</td>\n",
              "      <td>2021-08-26 12:39:22</td>\n",
              "      <td>40.625626</td>\n",
              "      <td>-73.915499</td>\n",
              "      <td>2021-08-26 12:25:56</td>\n",
              "      <td>0</td>\n",
              "      <td>1</td>\n",
              "      <td>0</td>\n",
              "      <td>0</td>\n",
              "      <td>0</td>\n",
              "      <td>0</td>\n",
              "      <td>0</td>\n",
              "      <td>0</td>\n",
              "      <td>-1</td>\n",
              "    </tr>\n",
              "    <tr>\n",
              "      <th>2</th>\n",
              "      <td>77407811</td>\n",
              "      <td>24Q2</td>\n",
              "      <td>2021-06-04 16:28:27</td>\n",
              "      <td>40.788134</td>\n",
              "      <td>-73.945602</td>\n",
              "      <td>2021-06-04 16:24:23</td>\n",
              "      <td>0</td>\n",
              "      <td>0</td>\n",
              "      <td>0</td>\n",
              "      <td>1</td>\n",
              "      <td>0</td>\n",
              "      <td>0</td>\n",
              "      <td>0</td>\n",
              "      <td>0</td>\n",
              "      <td>0</td>\n",
              "    </tr>\n",
              "    <tr>\n",
              "      <th>3</th>\n",
              "      <td>76177095</td>\n",
              "      <td>29H1</td>\n",
              "      <td>2021-04-11 17:25:07</td>\n",
              "      <td>40.677098</td>\n",
              "      <td>-73.825040</td>\n",
              "      <td>2021-04-11 17:19:50</td>\n",
              "      <td>0</td>\n",
              "      <td>0</td>\n",
              "      <td>0</td>\n",
              "      <td>0</td>\n",
              "      <td>0</td>\n",
              "      <td>0</td>\n",
              "      <td>1</td>\n",
              "      <td>0</td>\n",
              "      <td>-1</td>\n",
              "    </tr>\n",
              "    <tr>\n",
              "      <th>4</th>\n",
              "      <td>79879502</td>\n",
              "      <td>24Q2</td>\n",
              "      <td>2021-09-17 01:22:38</td>\n",
              "      <td>40.707385</td>\n",
              "      <td>-73.873772</td>\n",
              "      <td>2021-09-17 00:33:16</td>\n",
              "      <td>0</td>\n",
              "      <td>0</td>\n",
              "      <td>0</td>\n",
              "      <td>0</td>\n",
              "      <td>0</td>\n",
              "      <td>1</td>\n",
              "      <td>0</td>\n",
              "      <td>0</td>\n",
              "      <td>-1</td>\n",
              "    </tr>\n",
              "    <tr>\n",
              "      <th>...</th>\n",
              "      <td>...</td>\n",
              "      <td>...</td>\n",
              "      <td>...</td>\n",
              "      <td>...</td>\n",
              "      <td>...</td>\n",
              "      <td>...</td>\n",
              "      <td>...</td>\n",
              "      <td>...</td>\n",
              "      <td>...</td>\n",
              "      <td>...</td>\n",
              "      <td>...</td>\n",
              "      <td>...</td>\n",
              "      <td>...</td>\n",
              "      <td>...</td>\n",
              "      <td>...</td>\n",
              "    </tr>\n",
              "    <tr>\n",
              "      <th>500450</th>\n",
              "      <td>79014233</td>\n",
              "      <td>24Q2</td>\n",
              "      <td>2021-08-10 19:37:19</td>\n",
              "      <td>40.694553</td>\n",
              "      <td>-73.898867</td>\n",
              "      <td>2021-08-10 19:21:35</td>\n",
              "      <td>0</td>\n",
              "      <td>0</td>\n",
              "      <td>0</td>\n",
              "      <td>0</td>\n",
              "      <td>0</td>\n",
              "      <td>1</td>\n",
              "      <td>0</td>\n",
              "      <td>0</td>\n",
              "      <td>-1</td>\n",
              "    </tr>\n",
              "    <tr>\n",
              "      <th>500451</th>\n",
              "      <td>79499944</td>\n",
              "      <td>53D</td>\n",
              "      <td>2021-08-31 23:02:14</td>\n",
              "      <td>40.745196</td>\n",
              "      <td>-73.927784</td>\n",
              "      <td>2021-08-31 21:34:16</td>\n",
              "      <td>0</td>\n",
              "      <td>0</td>\n",
              "      <td>0</td>\n",
              "      <td>0</td>\n",
              "      <td>0</td>\n",
              "      <td>1</td>\n",
              "      <td>0</td>\n",
              "      <td>0</td>\n",
              "      <td>17</td>\n",
              "    </tr>\n",
              "    <tr>\n",
              "      <th>500452</th>\n",
              "      <td>77725606</td>\n",
              "      <td>22Q2</td>\n",
              "      <td>2021-06-17 12:36:03</td>\n",
              "      <td>40.745631</td>\n",
              "      <td>-73.998248</td>\n",
              "      <td>2021-06-17 12:08:21</td>\n",
              "      <td>0</td>\n",
              "      <td>0</td>\n",
              "      <td>0</td>\n",
              "      <td>0</td>\n",
              "      <td>1</td>\n",
              "      <td>0</td>\n",
              "      <td>0</td>\n",
              "      <td>0</td>\n",
              "      <td>0</td>\n",
              "    </tr>\n",
              "    <tr>\n",
              "      <th>500453</th>\n",
              "      <td>77969063</td>\n",
              "      <td>22Q2</td>\n",
              "      <td>2021-06-27 12:10:14</td>\n",
              "      <td>40.823500</td>\n",
              "      <td>-73.858619</td>\n",
              "      <td>2021-06-27 12:04:29</td>\n",
              "      <td>0</td>\n",
              "      <td>0</td>\n",
              "      <td>1</td>\n",
              "      <td>0</td>\n",
              "      <td>0</td>\n",
              "      <td>0</td>\n",
              "      <td>0</td>\n",
              "      <td>0</td>\n",
              "      <td>0</td>\n",
              "    </tr>\n",
              "    <tr>\n",
              "      <th>500454</th>\n",
              "      <td>76309324</td>\n",
              "      <td>10S2</td>\n",
              "      <td>2021-04-17 22:16:39</td>\n",
              "      <td>40.820370</td>\n",
              "      <td>-73.938133</td>\n",
              "      <td>2021-04-17 22:15:40</td>\n",
              "      <td>0</td>\n",
              "      <td>0</td>\n",
              "      <td>0</td>\n",
              "      <td>1</td>\n",
              "      <td>0</td>\n",
              "      <td>0</td>\n",
              "      <td>0</td>\n",
              "      <td>0</td>\n",
              "      <td>0</td>\n",
              "    </tr>\n",
              "  </tbody>\n",
              "</table>\n",
              "<p>500455 rows × 15 columns</p>\n",
              "</div>\n",
              "      <button class=\"colab-df-convert\" onclick=\"convertToInteractive('df-6c153906-a02b-4fe8-bde3-98b032cccfc8')\"\n",
              "              title=\"Convert this dataframe to an interactive table.\"\n",
              "              style=\"display:none;\">\n",
              "        \n",
              "  <svg xmlns=\"http://www.w3.org/2000/svg\" height=\"24px\"viewBox=\"0 0 24 24\"\n",
              "       width=\"24px\">\n",
              "    <path d=\"M0 0h24v24H0V0z\" fill=\"none\"/>\n",
              "    <path d=\"M18.56 5.44l.94 2.06.94-2.06 2.06-.94-2.06-.94-.94-2.06-.94 2.06-2.06.94zm-11 1L8.5 8.5l.94-2.06 2.06-.94-2.06-.94L8.5 2.5l-.94 2.06-2.06.94zm10 10l.94 2.06.94-2.06 2.06-.94-2.06-.94-.94-2.06-.94 2.06-2.06.94z\"/><path d=\"M17.41 7.96l-1.37-1.37c-.4-.4-.92-.59-1.43-.59-.52 0-1.04.2-1.43.59L10.3 9.45l-7.72 7.72c-.78.78-.78 2.05 0 2.83L4 21.41c.39.39.9.59 1.41.59.51 0 1.02-.2 1.41-.59l7.78-7.78 2.81-2.81c.8-.78.8-2.07 0-2.86zM5.41 20L4 18.59l7.72-7.72 1.47 1.35L5.41 20z\"/>\n",
              "  </svg>\n",
              "      </button>\n",
              "      \n",
              "  <style>\n",
              "    .colab-df-container {\n",
              "      display:flex;\n",
              "      flex-wrap:wrap;\n",
              "      gap: 12px;\n",
              "    }\n",
              "\n",
              "    .colab-df-convert {\n",
              "      background-color: #E8F0FE;\n",
              "      border: none;\n",
              "      border-radius: 50%;\n",
              "      cursor: pointer;\n",
              "      display: none;\n",
              "      fill: #1967D2;\n",
              "      height: 32px;\n",
              "      padding: 0 0 0 0;\n",
              "      width: 32px;\n",
              "    }\n",
              "\n",
              "    .colab-df-convert:hover {\n",
              "      background-color: #E2EBFA;\n",
              "      box-shadow: 0px 1px 2px rgba(60, 64, 67, 0.3), 0px 1px 3px 1px rgba(60, 64, 67, 0.15);\n",
              "      fill: #174EA6;\n",
              "    }\n",
              "\n",
              "    [theme=dark] .colab-df-convert {\n",
              "      background-color: #3B4455;\n",
              "      fill: #D2E3FC;\n",
              "    }\n",
              "\n",
              "    [theme=dark] .colab-df-convert:hover {\n",
              "      background-color: #434B5C;\n",
              "      box-shadow: 0px 1px 3px 1px rgba(0, 0, 0, 0.15);\n",
              "      filter: drop-shadow(0px 1px 2px rgba(0, 0, 0, 0.3));\n",
              "      fill: #FFFFFF;\n",
              "    }\n",
              "  </style>\n",
              "\n",
              "      <script>\n",
              "        const buttonEl =\n",
              "          document.querySelector('#df-6c153906-a02b-4fe8-bde3-98b032cccfc8 button.colab-df-convert');\n",
              "        buttonEl.style.display =\n",
              "          google.colab.kernel.accessAllowed ? 'block' : 'none';\n",
              "\n",
              "        async function convertToInteractive(key) {\n",
              "          const element = document.querySelector('#df-6c153906-a02b-4fe8-bde3-98b032cccfc8');\n",
              "          const dataTable =\n",
              "            await google.colab.kernel.invokeFunction('convertToInteractive',\n",
              "                                                     [key], {});\n",
              "          if (!dataTable) return;\n",
              "\n",
              "          const docLinkHtml = 'Like what you see? Visit the ' +\n",
              "            '<a target=\"_blank\" href=https://colab.research.google.com/notebooks/data_table.ipynb>data table notebook</a>'\n",
              "            + ' to learn more about interactive tables.';\n",
              "          element.innerHTML = '';\n",
              "          dataTable['output_type'] = 'display_data';\n",
              "          await google.colab.output.renderOutput(dataTable, element);\n",
              "          const docLink = document.createElement('div');\n",
              "          docLink.innerHTML = docLinkHtml;\n",
              "          element.appendChild(docLink);\n",
              "        }\n",
              "      </script>\n",
              "    </div>\n",
              "  </div>\n",
              "  "
            ]
          },
          "metadata": {},
          "execution_count": 12
        }
      ]
    },
    {
      "cell_type": "code",
      "source": [
        "x_merged.to_csv('',index=False)"
      ],
      "metadata": {
        "id": "WzsMyzR2yG9q",
        "colab": {
          "base_uri": "https://localhost:8080/",
          "height": 311
        },
        "outputId": "bc522326-ea0f-46c1-fb5b-1fc9035413a7"
      },
      "execution_count": null,
      "outputs": [
        {
          "output_type": "error",
          "ename": "FileNotFoundError",
          "evalue": "ignored",
          "traceback": [
            "\u001b[0;31m---------------------------------------------------------------------------\u001b[0m",
            "\u001b[0;31mFileNotFoundError\u001b[0m                         Traceback (most recent call last)",
            "\u001b[0;32m<ipython-input-13-bb6b5f86fcd7>\u001b[0m in \u001b[0;36m<module>\u001b[0;34m()\u001b[0m\n\u001b[0;32m----> 1\u001b[0;31m \u001b[0mx_merged\u001b[0m\u001b[0;34m.\u001b[0m\u001b[0mto_csv\u001b[0m\u001b[0;34m(\u001b[0m\u001b[0;34m''\u001b[0m\u001b[0;34m,\u001b[0m\u001b[0mindex\u001b[0m\u001b[0;34m=\u001b[0m\u001b[0;32mFalse\u001b[0m\u001b[0;34m)\u001b[0m\u001b[0;34m\u001b[0m\u001b[0;34m\u001b[0m\u001b[0m\n\u001b[0m",
            "\u001b[0;32m/usr/local/lib/python3.7/dist-packages/pandas/core/generic.py\u001b[0m in \u001b[0;36mto_csv\u001b[0;34m(self, path_or_buf, sep, na_rep, float_format, columns, header, index, index_label, mode, encoding, compression, quoting, quotechar, line_terminator, chunksize, date_format, doublequote, escapechar, decimal, errors, storage_options)\u001b[0m\n\u001b[1;32m   3480\u001b[0m             \u001b[0mdoublequote\u001b[0m\u001b[0;34m=\u001b[0m\u001b[0mdoublequote\u001b[0m\u001b[0;34m,\u001b[0m\u001b[0;34m\u001b[0m\u001b[0;34m\u001b[0m\u001b[0m\n\u001b[1;32m   3481\u001b[0m             \u001b[0mescapechar\u001b[0m\u001b[0;34m=\u001b[0m\u001b[0mescapechar\u001b[0m\u001b[0;34m,\u001b[0m\u001b[0;34m\u001b[0m\u001b[0;34m\u001b[0m\u001b[0m\n\u001b[0;32m-> 3482\u001b[0;31m             \u001b[0mstorage_options\u001b[0m\u001b[0;34m=\u001b[0m\u001b[0mstorage_options\u001b[0m\u001b[0;34m,\u001b[0m\u001b[0;34m\u001b[0m\u001b[0;34m\u001b[0m\u001b[0m\n\u001b[0m\u001b[1;32m   3483\u001b[0m         )\n\u001b[1;32m   3484\u001b[0m \u001b[0;34m\u001b[0m\u001b[0m\n",
            "\u001b[0;32m/usr/local/lib/python3.7/dist-packages/pandas/io/formats/format.py\u001b[0m in \u001b[0;36mto_csv\u001b[0;34m(self, path_or_buf, encoding, sep, columns, index_label, mode, compression, quoting, quotechar, line_terminator, chunksize, date_format, doublequote, escapechar, errors, storage_options)\u001b[0m\n\u001b[1;32m   1103\u001b[0m             \u001b[0mformatter\u001b[0m\u001b[0;34m=\u001b[0m\u001b[0mself\u001b[0m\u001b[0;34m.\u001b[0m\u001b[0mfmt\u001b[0m\u001b[0;34m,\u001b[0m\u001b[0;34m\u001b[0m\u001b[0;34m\u001b[0m\u001b[0m\n\u001b[1;32m   1104\u001b[0m         )\n\u001b[0;32m-> 1105\u001b[0;31m         \u001b[0mcsv_formatter\u001b[0m\u001b[0;34m.\u001b[0m\u001b[0msave\u001b[0m\u001b[0;34m(\u001b[0m\u001b[0;34m)\u001b[0m\u001b[0;34m\u001b[0m\u001b[0;34m\u001b[0m\u001b[0m\n\u001b[0m\u001b[1;32m   1106\u001b[0m \u001b[0;34m\u001b[0m\u001b[0m\n\u001b[1;32m   1107\u001b[0m         \u001b[0;32mif\u001b[0m \u001b[0mcreated_buffer\u001b[0m\u001b[0;34m:\u001b[0m\u001b[0;34m\u001b[0m\u001b[0;34m\u001b[0m\u001b[0m\n",
            "\u001b[0;32m/usr/local/lib/python3.7/dist-packages/pandas/io/formats/csvs.py\u001b[0m in \u001b[0;36msave\u001b[0;34m(self)\u001b[0m\n\u001b[1;32m    241\u001b[0m             \u001b[0merrors\u001b[0m\u001b[0;34m=\u001b[0m\u001b[0mself\u001b[0m\u001b[0;34m.\u001b[0m\u001b[0merrors\u001b[0m\u001b[0;34m,\u001b[0m\u001b[0;34m\u001b[0m\u001b[0;34m\u001b[0m\u001b[0m\n\u001b[1;32m    242\u001b[0m             \u001b[0mcompression\u001b[0m\u001b[0;34m=\u001b[0m\u001b[0mself\u001b[0m\u001b[0;34m.\u001b[0m\u001b[0mcompression\u001b[0m\u001b[0;34m,\u001b[0m\u001b[0;34m\u001b[0m\u001b[0;34m\u001b[0m\u001b[0m\n\u001b[0;32m--> 243\u001b[0;31m             \u001b[0mstorage_options\u001b[0m\u001b[0;34m=\u001b[0m\u001b[0mself\u001b[0m\u001b[0;34m.\u001b[0m\u001b[0mstorage_options\u001b[0m\u001b[0;34m,\u001b[0m\u001b[0;34m\u001b[0m\u001b[0;34m\u001b[0m\u001b[0m\n\u001b[0m\u001b[1;32m    244\u001b[0m         ) as handles:\n\u001b[1;32m    245\u001b[0m \u001b[0;34m\u001b[0m\u001b[0m\n",
            "\u001b[0;32m/usr/local/lib/python3.7/dist-packages/pandas/io/common.py\u001b[0m in \u001b[0;36mget_handle\u001b[0;34m(path_or_buf, mode, encoding, compression, memory_map, is_text, errors, storage_options)\u001b[0m\n\u001b[1;32m    705\u001b[0m                 \u001b[0mencoding\u001b[0m\u001b[0;34m=\u001b[0m\u001b[0mioargs\u001b[0m\u001b[0;34m.\u001b[0m\u001b[0mencoding\u001b[0m\u001b[0;34m,\u001b[0m\u001b[0;34m\u001b[0m\u001b[0;34m\u001b[0m\u001b[0m\n\u001b[1;32m    706\u001b[0m                 \u001b[0merrors\u001b[0m\u001b[0;34m=\u001b[0m\u001b[0merrors\u001b[0m\u001b[0;34m,\u001b[0m\u001b[0;34m\u001b[0m\u001b[0;34m\u001b[0m\u001b[0m\n\u001b[0;32m--> 707\u001b[0;31m                 \u001b[0mnewline\u001b[0m\u001b[0;34m=\u001b[0m\u001b[0;34m\"\"\u001b[0m\u001b[0;34m,\u001b[0m\u001b[0;34m\u001b[0m\u001b[0;34m\u001b[0m\u001b[0m\n\u001b[0m\u001b[1;32m    708\u001b[0m             )\n\u001b[1;32m    709\u001b[0m         \u001b[0;32melse\u001b[0m\u001b[0;34m:\u001b[0m\u001b[0;34m\u001b[0m\u001b[0;34m\u001b[0m\u001b[0m\n",
            "\u001b[0;31mFileNotFoundError\u001b[0m: [Errno 2] No such file or directory: ''"
          ]
        }
      ]
    },
    {
      "cell_type": "code",
      "source": [
        "x[\"Labels\"].value_counts()"
      ],
      "metadata": {
        "id": "-bSdbQu8tC87"
      },
      "execution_count": null,
      "outputs": []
    },
    {
      "cell_type": "code",
      "source": [
        "# Building the label to colour mapping\n",
        "# plotting the results\n",
        "import matplotlib.pyplot as plt\n",
        "colours = {}\n",
        "#colours[0] = 'r'\n",
        "#colours[1] = 'g'\n",
        "#colours[2] = 'b'\n",
        "\n",
        "y = ['lavender','g','b','c','m','y','pink','purple','grey','orange','olive','gold','teal','navy']\n",
        "for i in range(0,23):\n",
        "  colours[i] = y[i%len(y)]\n",
        "colours[-1] = 'k'\n",
        "\n",
        "# Building the colour vector for each data point\n",
        "cvec = [colours[label] for label in labels]\n",
        "\n",
        "# For the construction of the legend of the plot\n",
        "r = plt.scatter(x['Latitude'], x['Longitude'], color ='r');\n",
        "g = plt.scatter(x['Latitude'], x['Longitude'], color ='g');\n",
        "b = plt.scatter(x['Latitude'], x['Longitude'], color ='b');\n",
        "k = plt.scatter(x['Latitude'], x['Longitude'], color ='k');\n",
        "c = plt.scatter(x['Latitude'], x['Longitude'], color ='c');\n",
        "m = plt.scatter(x['Latitude'], x['Longitude'], color ='m');\n",
        "y = plt.scatter(x['Latitude'], x['Longitude'], color ='y');\n",
        "pink = plt.scatter(x['Latitude'], x['Longitude'], color ='pink');\n",
        "purple = plt.scatter(x['Latitude'], x['Longitude'], color ='purple');\n",
        "grey = plt.scatter(x['Latitude'], x['Longitude'], color ='grey');\n",
        "orange = plt.scatter(x['Latitude'], x['Longitude'], color ='orange');\n",
        "olive = plt.scatter(x['Latitude'], x['Longitude'], color ='olive');\n",
        "gold = plt.scatter(x['Latitude'], x['Longitude'], color ='gold');\n",
        "teal = plt.scatter(x['Latitude'], x['Longitude'], color ='teal');\n",
        "navy = plt.scatter(x['Latitude'], x['Longitude'], color ='navy');\n",
        "\n",
        "# Plotting P1 on the X-Axis and P2 on the Y-Axis\n",
        "# according to the colour vector defined\n",
        "plt.figure(figsize =(9, 9))\n",
        "plt.scatter(x['Latitude'], x['Longitude'], c = cvec)\n",
        "\n",
        "# Building the legend\n",
        "plt.legend((r, g, b, k), ('Label 0', 'Label 1', 'Label 2', 'Label -1'))\n",
        "\n",
        "plt.show()\n"
      ],
      "metadata": {
        "id": "_j7nhTDT9yn6"
      },
      "execution_count": null,
      "outputs": []
    },
    {
      "cell_type": "code",
      "source": [
        "# Building the label to colour mapping\n",
        "# plotting the results\n",
        "import matplotlib\n",
        "import matplotlib.pyplot as plt\n",
        "import colorsys\n",
        "\n",
        "def scale_lightness(rgb, scale_l):\n",
        "    # convert rgb to hls\n",
        "    h, l, s = colorsys.rgb_to_hls(*rgb)\n",
        "    # manipulate h, l, s values and return as rgb\n",
        "    return colorsys.hls_to_rgb(h, min(1, l * scale_l), s = s)\n",
        "\n",
        "colours={}\n",
        "color = matplotlib.colors.ColorConverter.to_rgb(\"red\")\n",
        "y = [scale_lightness(color, scale) for scale in [ .3,.55, .6,.65,.7,.75,.8,.85,.9,.95,1,1.05,1.1,1.15,1.2,1.25,1.3,1.35,1.4,1.45,1.5,1.55,1.6]]\n",
        "for i in range(0,23):\n",
        "  colours[i] = y[i]\n",
        "colours[-1] = 'k'\n",
        "\n",
        "# Building the colour vector for each data point\n",
        "cvec = [colours[label] for label in labels]\n",
        "\n",
        "# For the construction of the legend of the plot\n",
        "for i in y:\n",
        "\tvars()[i]=plt.scatter(x['Latitude'], x['Longitude'], color =i);\n",
        "\n",
        "# Plotting P1 on the X-Axis and P2 on the Y-Axis\n",
        "# according to the colour vector defined\n",
        "plt.figure(figsize =(9, 9))\n",
        "plt.title('Clusters of locations')\n",
        "plt.xlabel('Latitude')\n",
        "plt.ylabel('Longitude')\n",
        "plt.scatter(x['Latitude'], x['Longitude'], c = cvec)\n",
        "\n",
        "# Building the legend\n",
        "#plt.legend((r, g, b, k), ('Label 0', 'Label 1', 'Label 2', 'Label -1'))\n",
        "\n",
        "plt.show()"
      ],
      "metadata": {
        "id": "0mTM5ErW91W5"
      },
      "execution_count": null,
      "outputs": []
    },
    {
      "cell_type": "code",
      "source": [
        "#DB Index\n",
        "from sklearn.metrics import davies_bouldin_score\n",
        "print(davies_bouldin_score(x, labels))"
      ],
      "metadata": {
        "id": "yvhJuUYIyPpc",
        "colab": {
          "base_uri": "https://localhost:8080/"
        },
        "outputId": "16a42ec5-3aed-4c48-ffa8-2a4865bb14f3"
      },
      "execution_count": null,
      "outputs": [
        {
          "output_type": "stream",
          "name": "stdout",
          "text": [
            "996.5341881371161\n"
          ]
        }
      ]
    },
    {
      "cell_type": "code",
      "source": [
        "from sklearn.metrics import calinski_harabasz_score\n",
        "calinski_harabasz_score(x, labels)"
      ],
      "metadata": {
        "id": "wlv1oyfGVuTP"
      },
      "execution_count": null,
      "outputs": []
    },
    {
      "cell_type": "markdown",
      "source": [
        "# HDBSCAN"
      ],
      "metadata": {
        "id": "xCrPlqHxvC7q"
      }
    },
    {
      "cell_type": "code",
      "source": [
        "!pip install hdbscan"
      ],
      "metadata": {
        "id": "HmK5hv0gvEvo"
      },
      "execution_count": null,
      "outputs": []
    },
    {
      "cell_type": "code",
      "source": [
        "import hdbscan\n",
        "import numpy as np"
      ],
      "metadata": {
        "id": "edtJaov9vFMI"
      },
      "execution_count": null,
      "outputs": []
    },
    {
      "cell_type": "code",
      "source": [
        "#sampling code- taking only lat and lon columns\n",
        "x = df[['CAD_EVNT_ID','Latitude','Longitude']][:50000]\n",
        "x"
      ],
      "metadata": {
        "id": "DUaFGvtByd5g"
      },
      "execution_count": null,
      "outputs": []
    },
    {
      "cell_type": "code",
      "source": [
        "hdbscan1 = hdbscan.HDBSCAN(min_cluster_size=1000, min_samples = 50 )\n",
        "labels = hdbscan1.fit_predict(x)\n",
        "#hdbscan.condensed_tree_.plot(select_clusters=True)\n",
        "set(labels)\n",
        "#mcs 2700, ms 30 - 40s labels\n",
        "#mcs 2700, ms 40, - 37 labels\n",
        "#mcs 3000, ms 40, - 37 labels\n",
        "#mcs 3500, ms 40, - 37 labels\n",
        "#mcs 3500, ms 50, - 3 labels\n",
        "#mcs 3500, ms 45, - 3 labels\n",
        "#mcs 5000, ms 40, - 28 labels\n",
        "#mcs 5500, ms 40, - 28 labels\n",
        "#mcs 5500, ms 45, - 3 labels\n",
        "#mcs 5500, ms 30, - 19 labels\n",
        "#mcs 5000, ms 10, - 8 labels\n",
        "#mcs 5000, ms 1, - 17 labels\n",
        "#mcs 3000, ms 10, - 9 labels\n",
        "#mcs 5000, ms 1, allow_single_cluster=True, - 1 label{0}\n",
        "#mcs 3000, ms 1, allow_single_cluster=True, - 1 label{0}\n",
        "#mcs 3000, ms 10, allow_single_cluster=True, - 1 label{0}\n",
        "#mcs 7000, ms 1, - 15 labels\n",
        "#mcs 10000, ms 1, - 8 labels\n",
        "#mcs 1500, ms 1, - 52 labels\n",
        "#mcs 2000, ms 1, - 26 labels"
      ],
      "metadata": {
        "id": "4Uam43wrvFQN"
      },
      "execution_count": null,
      "outputs": []
    },
    {
      "cell_type": "code",
      "source": [
        "# Building the label to colour mapping\n",
        "# plotting the results\n",
        "import matplotlib\n",
        "import matplotlib.pyplot as plt\n",
        "import colorsys\n",
        "\n",
        "def scale_lightness(rgb, scale_l):\n",
        "    # convert rgb to hls\n",
        "    h, l, s = colorsys.rgb_to_hls(*rgb)\n",
        "    # manipulate h, l, s values and return as rgb\n",
        "    return colorsys.hls_to_rgb(h, min(1, l * scale_l), s = s)\n",
        "\n",
        "colours={}\n",
        "color = matplotlib.colors.ColorConverter.to_rgb(\"red\")\n",
        "y = [scale_lightness(color, scale) for scale in [ .3,.55, .6,.65,.7,.75,.8,.85,.9,.95,1,1.05,1.1,1.15,1.2,1.25,1.3,1.35,1.4,1.45,1.5,1.55,1.65,1.75,1.85,1.95,2,2.5,2.55]]\n",
        "for i in range(0,14):\n",
        "  colours[i] = y[i]\n",
        "colours[-1] = 'k'\n",
        "\n",
        "# Building the colour vector for each data point\n",
        "cvec = [colours[label] for label in labels]\n",
        "\n",
        "# For the construction of the legend of the plot\n",
        "for i in y:\n",
        "\tvars()[i]=plt.scatter(x['Latitude'], x['Longitude'], color =i);\n",
        "\n",
        "# Plotting P1 on the X-Axis and P2 on the Y-Axis\n",
        "# according to the colour vector defined\n",
        "plt.figure(figsize =(9, 9))\n",
        "plt.title('Clusters of locations')\n",
        "plt.xlabel('Latitude')\n",
        "plt.ylabel('Longitude')\n",
        "plt.scatter(x['Latitude'], x['Longitude'], c = cvec, s=3)\n",
        "\n",
        "# Building the legend\n",
        "#plt.legend((r, g, b, k), ('Label 0', 'Label 1', 'Label 2', 'Label -1'))\n",
        "\n",
        "plt.show()"
      ],
      "metadata": {
        "id": "qwdPtcq1vFTO"
      },
      "execution_count": null,
      "outputs": []
    },
    {
      "cell_type": "code",
      "source": [
        "#DB Index\n",
        "from sklearn.metrics import davies_bouldin_score\n",
        "print(davies_bouldin_score(x, labels))"
      ],
      "metadata": {
        "id": "R8mExywlvFXx"
      },
      "execution_count": null,
      "outputs": []
    },
    {
      "cell_type": "code",
      "source": [
        "from sklearn.metrics import calinski_harabasz_score\n",
        "calinski_harabasz_score(x, labels)"
      ],
      "metadata": {
        "id": "kcZKp8UJWWu8"
      },
      "execution_count": null,
      "outputs": []
    },
    {
      "cell_type": "markdown",
      "source": [
        "# OPTICS"
      ],
      "metadata": {
        "id": "tEYEFd7MvZGk"
      }
    },
    {
      "cell_type": "code",
      "source": [
        "# Building the OPTICS Clustering model\n",
        "import matplotlib.pyplot as plt\n",
        "from matplotlib import gridspec\n",
        "from sklearn.cluster import OPTICS, cluster_optics_dbscan\n",
        "x=df[['Latitude','Longitude']][:100000]\n",
        "optics_model = OPTICS(min_samples = 50, xi = 0.05, min_cluster_size = 1000)\n",
        "\n",
        "# Training the model\n",
        "optics_model.fit(x)\n",
        "\n",
        "#ms=100,mcs=10,10000 rows,4 clusters\n",
        "#ms=10,mcs=500,100000 rows,14 clusters, time- 18mins\n",
        "# next time use 5lac rows\n",
        "#ms=10, mcs=500, dbindex 213, clusters=14, time 31 mins\n",
        "#ms=100, mcs=500, dbindex=84, clusters=3,\n",
        "#ms=100, mcs=1000, dbindex=132, clusters=3,"
      ],
      "metadata": {
        "id": "rDuaC_Tqno0b"
      },
      "execution_count": null,
      "outputs": []
    },
    {
      "cell_type": "code",
      "source": [
        "# Producing the labels according to the DBSCAN technique with eps = 0.5\n",
        "import numpy as np\n",
        "labels1 = cluster_optics_dbscan(reachability = optics_model.reachability_,\n",
        "\t\t\t\t\t\t\t\tcore_distances = optics_model.core_distances_,\n",
        "\t\t\t\t\t\t\t\tordering = optics_model.ordering_, eps = 0.05)\n",
        "\n",
        "# Producing the labels according to the DBSCAN technique with eps = 2.0\n",
        "labels2 = cluster_optics_dbscan(reachability = optics_model.reachability_,\n",
        "\t\t\t\t\t\t\t\tcore_distances = optics_model.core_distances_,\n",
        "\t\t\t\t\t\t\t\tordering = optics_model.ordering_, eps = 2)\n",
        "\n",
        "# Creating a numpy array with numbers at equal spaces till\n",
        "# the specified range\n",
        "space = np.arange(len(x))\n",
        "\n",
        "# Storing the reachability distance of each point\n",
        "reachability = optics_model.reachability_[optics_model.ordering_]\n",
        "\n",
        "# Storing the cluster labels of each point\n",
        "labels = optics_model.labels_[optics_model.ordering_]\n",
        "\n",
        "print(labels)\n",
        "print(set(labels))"
      ],
      "metadata": {
        "id": "-J0wGXbUuHhP"
      },
      "execution_count": null,
      "outputs": []
    },
    {
      "cell_type": "code",
      "source": [
        "# Building the label to colour mapping\n",
        "# plotting the results\n",
        "\n",
        "import matplotlib.pyplot as plt\n",
        "colours = {}\n",
        "#colours[0] = 'r'\n",
        "#colours[1] = 'g'\n",
        "#colours[2] = 'b'\n",
        "\n",
        "y = ['lavender','g','y','c','m','b','pink','purple','grey','orange','olive','gold','teal','navy']\n",
        "for i in range(0,13):\n",
        "  colours[i] = y[i%len(y)]\n",
        "colours[-1] = 'k'\n",
        "\n",
        "# Building the colour vector for each data point\n",
        "cvec = [colours[label] for label in labels]\n",
        "\n",
        "# For the construction of the legend of the plot\n",
        "r = plt.scatter(x['Latitude'], x['Longitude'], color ='r');\n",
        "g = plt.scatter(x['Latitude'], x['Longitude'], color ='g');\n",
        "b = plt.scatter(x['Latitude'], x['Longitude'], color ='b');\n",
        "k = plt.scatter(x['Latitude'], x['Longitude'], color ='k');\n",
        "# according to the colour vector defined\n",
        "plt.figure(figsize =(9, 9))\n",
        "plt.title('Clusters of locations')\n",
        "plt.xlabel('Latitude')\n",
        "plt.ylabel('Longitude')\n",
        "plt.scatter(x['Latitude'], x['Longitude'], c = cvec)\n",
        "\n",
        "# Building the legend\n",
        "plt.legend((r, g, b, k), ('Label 0', 'Label 1', 'Label 2', 'Label 3','Label -1'))\n",
        "\n",
        "plt.show()"
      ],
      "metadata": {
        "id": "IIUnx0veuHit"
      },
      "execution_count": null,
      "outputs": []
    },
    {
      "cell_type": "code",
      "source": [
        "#DB Index\n",
        "from sklearn.metrics import davies_bouldin_score\n",
        "print(davies_bouldin_score(x, labels))"
      ],
      "metadata": {
        "id": "KLKQ7XCtdf-F"
      },
      "execution_count": null,
      "outputs": []
    },
    {
      "cell_type": "code",
      "source": [
        "from sklearn.metrics import calinski_harabasz_score\n",
        "calinski_harabasz_score(x, labels)"
      ],
      "metadata": {
        "id": "9v0ckNlsWsF6"
      },
      "execution_count": null,
      "outputs": []
    },
    {
      "cell_type": "markdown",
      "source": [
        "#BIRCH"
      ],
      "metadata": {
        "id": "IeIjy3y61jQS"
      }
    },
    {
      "cell_type": "code",
      "source": [
        "x=df[['Latitude','Longitude']]\n",
        "x=x.values"
      ],
      "metadata": {
        "id": "GUJH1rXg1pQS"
      },
      "execution_count": null,
      "outputs": []
    },
    {
      "cell_type": "code",
      "source": [
        "from numpy import unique\n",
        "from numpy import where\n",
        "from sklearn.datasets import make_classification\n",
        "from sklearn.cluster import Birch\n",
        "from matplotlib import pyplot\n",
        "# define the model\n",
        "model = Birch(threshold=0.01, n_clusters=10)\n",
        "# fit the model\n",
        "model.fit(x)\n"
      ],
      "metadata": {
        "id": "qrcPr8ba1uno"
      },
      "execution_count": null,
      "outputs": []
    },
    {
      "cell_type": "code",
      "source": [
        "# assign a cluster to each example\n",
        "pyplot.figure(figsize =(12, 8))\n",
        "yhat = model.predict(x)\n",
        "# retrieve unique clusters\n",
        "clusters = unique(yhat)\n",
        "# create scatter plot for samples from each cluster\n",
        "for cluster in clusters:\n",
        "\t# get row indexes for samples with this cluster\n",
        "  row_ix = where(yhat == cluster)\n",
        "  # create scatter of these samples\n",
        "  pyplot.scatter(x[row_ix,0], x[row_ix,1],s=2)\n",
        "# show the plot\n",
        "pyplot.title('Clusters of locations')\n",
        "pyplot.xlabel('Latitude')\n",
        "pyplot.ylabel('Longitude')\n",
        "pyplot.show()"
      ],
      "metadata": {
        "id": "yWVqqMqk1yVj"
      },
      "execution_count": null,
      "outputs": []
    },
    {
      "cell_type": "code",
      "source": [
        "#DB Index\n",
        "from sklearn.metrics import davies_bouldin_score\n",
        "print(davies_bouldin_score(x, yhat))"
      ],
      "metadata": {
        "id": "MGQxXg2514MM"
      },
      "execution_count": null,
      "outputs": []
    },
    {
      "cell_type": "code",
      "source": [
        "from sklearn.metrics import calinski_harabasz_score\n",
        "calinski_harabasz_score(x, yhat)"
      ],
      "metadata": {
        "id": "dDLaFOF7aa00"
      },
      "execution_count": null,
      "outputs": []
    }
  ]
}