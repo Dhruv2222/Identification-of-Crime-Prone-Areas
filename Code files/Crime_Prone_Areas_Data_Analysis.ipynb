{
  "cells": [
    {
      "cell_type": "code",
      "execution_count": null,
      "metadata": {
        "id": "4n9QCED6FN8D"
      },
      "outputs": [],
      "source": [
        "import pandas as pd\n",
        "!pip install -U -q PyDrive\n",
        "from pydrive.auth import GoogleAuth\n",
        "from pydrive.drive import GoogleDrive\n",
        "from google.colab import auth\n",
        "from oauth2client.client import GoogleCredentials\n",
        "auth.authenticate_user()\n",
        "gauth = GoogleAuth()\n",
        "gauth.credentials = GoogleCredentials.get_application_default()\n",
        "drive = GoogleDrive(gauth)\n",
        "link = 'https://drive.google.com/file/d/1HN50IOVUMUI5hs1cz-rdQAIUmSC5Mp42/view?usp=sharing'\n",
        "\n",
        "id = link.split(\"/\")[-2]\n",
        "\n",
        "downloaded = drive.CreateFile({'id':id})\n",
        "downloaded.GetContentFile('merged_with_categories.csv')\n",
        "\n",
        "df_merged = pd.read_csv('merged_with_categories.csv')"
      ]
    },
    {
      "cell_type": "code",
      "execution_count": null,
      "metadata": {
        "colab": {
          "base_uri": "https://localhost:8080/",
          "height": 374
        },
        "id": "ZSldlbNSIqKo",
        "outputId": "6cd8d915-634f-42d1-fc2c-02d5cc3cc872"
      },
      "outputs": [
        {
          "output_type": "execute_result",
          "data": {
            "text/plain": [
              "   CAD_EVNT_ID RADIO_CODE            ARRIVD_TS   Latitude  Longitude  \\\n",
              "0     75781251       29Q1  2021-03-24 20:10:33  40.665504 -73.755437   \n",
              "1     79375430        53D  2021-08-26 12:39:22  40.625626 -73.915499   \n",
              "2     77407811       24Q2  2021-06-04 16:28:27  40.788134 -73.945602   \n",
              "3     76177095       29H1  2021-04-11 17:25:07  40.677098 -73.825040   \n",
              "4     79879502       24Q2  2021-09-17 01:22:38  40.707385 -73.873772   \n",
              "\n",
              "    INCIDENT_DATE_TIME  PATRL_BORO_NM_PATROL BORO BKLYN NORTH  \\\n",
              "0  2021-03-24 19:49:06                                      0   \n",
              "1  2021-08-26 12:25:56                                      0   \n",
              "2  2021-06-04 16:24:23                                      0   \n",
              "3  2021-04-11 17:19:50                                      0   \n",
              "4  2021-09-17 00:33:16                                      0   \n",
              "\n",
              "   PATRL_BORO_NM_PATROL BORO BKLYN SOUTH  PATRL_BORO_NM_PATROL BORO BRONX  \\\n",
              "0                                      0                                0   \n",
              "1                                      1                                0   \n",
              "2                                      0                                0   \n",
              "3                                      0                                0   \n",
              "4                                      0                                0   \n",
              "\n",
              "   PATRL_BORO_NM_PATROL BORO MAN NORTH  PATRL_BORO_NM_PATROL BORO MAN SOUTH  \\\n",
              "0                                    0                                    0   \n",
              "1                                    0                                    0   \n",
              "2                                    1                                    0   \n",
              "3                                    0                                    0   \n",
              "4                                    0                                    0   \n",
              "\n",
              "   PATRL_BORO_NM_PATROL BORO QUEENS NORTH  \\\n",
              "0                                       0   \n",
              "1                                       0   \n",
              "2                                       0   \n",
              "3                                       0   \n",
              "4                                       1   \n",
              "\n",
              "   PATRL_BORO_NM_PATROL BORO QUEENS SOUTH  \\\n",
              "0                                       1   \n",
              "1                                       0   \n",
              "2                                       0   \n",
              "3                                       1   \n",
              "4                                       0   \n",
              "\n",
              "   PATRL_BORO_NM_PATROL BORO STATEN ISLAND  Labels  \n",
              "0                                        0       1  \n",
              "1                                        0       8  \n",
              "2                                        0       7  \n",
              "3                                        0       1  \n",
              "4                                        0       6  "
            ],
            "text/html": [
              "\n",
              "  <div id=\"df-bbee0acb-cf80-4cd6-965c-cf47bcd53a3d\">\n",
              "    <div class=\"colab-df-container\">\n",
              "      <div>\n",
              "<style scoped>\n",
              "    .dataframe tbody tr th:only-of-type {\n",
              "        vertical-align: middle;\n",
              "    }\n",
              "\n",
              "    .dataframe tbody tr th {\n",
              "        vertical-align: top;\n",
              "    }\n",
              "\n",
              "    .dataframe thead th {\n",
              "        text-align: right;\n",
              "    }\n",
              "</style>\n",
              "<table border=\"1\" class=\"dataframe\">\n",
              "  <thead>\n",
              "    <tr style=\"text-align: right;\">\n",
              "      <th></th>\n",
              "      <th>CAD_EVNT_ID</th>\n",
              "      <th>RADIO_CODE</th>\n",
              "      <th>ARRIVD_TS</th>\n",
              "      <th>Latitude</th>\n",
              "      <th>Longitude</th>\n",
              "      <th>INCIDENT_DATE_TIME</th>\n",
              "      <th>PATRL_BORO_NM_PATROL BORO BKLYN NORTH</th>\n",
              "      <th>PATRL_BORO_NM_PATROL BORO BKLYN SOUTH</th>\n",
              "      <th>PATRL_BORO_NM_PATROL BORO BRONX</th>\n",
              "      <th>PATRL_BORO_NM_PATROL BORO MAN NORTH</th>\n",
              "      <th>PATRL_BORO_NM_PATROL BORO MAN SOUTH</th>\n",
              "      <th>PATRL_BORO_NM_PATROL BORO QUEENS NORTH</th>\n",
              "      <th>PATRL_BORO_NM_PATROL BORO QUEENS SOUTH</th>\n",
              "      <th>PATRL_BORO_NM_PATROL BORO STATEN ISLAND</th>\n",
              "      <th>Labels</th>\n",
              "    </tr>\n",
              "  </thead>\n",
              "  <tbody>\n",
              "    <tr>\n",
              "      <th>0</th>\n",
              "      <td>75781251</td>\n",
              "      <td>29Q1</td>\n",
              "      <td>2021-03-24 20:10:33</td>\n",
              "      <td>40.665504</td>\n",
              "      <td>-73.755437</td>\n",
              "      <td>2021-03-24 19:49:06</td>\n",
              "      <td>0</td>\n",
              "      <td>0</td>\n",
              "      <td>0</td>\n",
              "      <td>0</td>\n",
              "      <td>0</td>\n",
              "      <td>0</td>\n",
              "      <td>1</td>\n",
              "      <td>0</td>\n",
              "      <td>1</td>\n",
              "    </tr>\n",
              "    <tr>\n",
              "      <th>1</th>\n",
              "      <td>79375430</td>\n",
              "      <td>53D</td>\n",
              "      <td>2021-08-26 12:39:22</td>\n",
              "      <td>40.625626</td>\n",
              "      <td>-73.915499</td>\n",
              "      <td>2021-08-26 12:25:56</td>\n",
              "      <td>0</td>\n",
              "      <td>1</td>\n",
              "      <td>0</td>\n",
              "      <td>0</td>\n",
              "      <td>0</td>\n",
              "      <td>0</td>\n",
              "      <td>0</td>\n",
              "      <td>0</td>\n",
              "      <td>8</td>\n",
              "    </tr>\n",
              "    <tr>\n",
              "      <th>2</th>\n",
              "      <td>77407811</td>\n",
              "      <td>24Q2</td>\n",
              "      <td>2021-06-04 16:28:27</td>\n",
              "      <td>40.788134</td>\n",
              "      <td>-73.945602</td>\n",
              "      <td>2021-06-04 16:24:23</td>\n",
              "      <td>0</td>\n",
              "      <td>0</td>\n",
              "      <td>0</td>\n",
              "      <td>1</td>\n",
              "      <td>0</td>\n",
              "      <td>0</td>\n",
              "      <td>0</td>\n",
              "      <td>0</td>\n",
              "      <td>7</td>\n",
              "    </tr>\n",
              "    <tr>\n",
              "      <th>3</th>\n",
              "      <td>76177095</td>\n",
              "      <td>29H1</td>\n",
              "      <td>2021-04-11 17:25:07</td>\n",
              "      <td>40.677098</td>\n",
              "      <td>-73.825040</td>\n",
              "      <td>2021-04-11 17:19:50</td>\n",
              "      <td>0</td>\n",
              "      <td>0</td>\n",
              "      <td>0</td>\n",
              "      <td>0</td>\n",
              "      <td>0</td>\n",
              "      <td>0</td>\n",
              "      <td>1</td>\n",
              "      <td>0</td>\n",
              "      <td>1</td>\n",
              "    </tr>\n",
              "    <tr>\n",
              "      <th>4</th>\n",
              "      <td>79879502</td>\n",
              "      <td>24Q2</td>\n",
              "      <td>2021-09-17 01:22:38</td>\n",
              "      <td>40.707385</td>\n",
              "      <td>-73.873772</td>\n",
              "      <td>2021-09-17 00:33:16</td>\n",
              "      <td>0</td>\n",
              "      <td>0</td>\n",
              "      <td>0</td>\n",
              "      <td>0</td>\n",
              "      <td>0</td>\n",
              "      <td>1</td>\n",
              "      <td>0</td>\n",
              "      <td>0</td>\n",
              "      <td>6</td>\n",
              "    </tr>\n",
              "  </tbody>\n",
              "</table>\n",
              "</div>\n",
              "      <button class=\"colab-df-convert\" onclick=\"convertToInteractive('df-bbee0acb-cf80-4cd6-965c-cf47bcd53a3d')\"\n",
              "              title=\"Convert this dataframe to an interactive table.\"\n",
              "              style=\"display:none;\">\n",
              "        \n",
              "  <svg xmlns=\"http://www.w3.org/2000/svg\" height=\"24px\"viewBox=\"0 0 24 24\"\n",
              "       width=\"24px\">\n",
              "    <path d=\"M0 0h24v24H0V0z\" fill=\"none\"/>\n",
              "    <path d=\"M18.56 5.44l.94 2.06.94-2.06 2.06-.94-2.06-.94-.94-2.06-.94 2.06-2.06.94zm-11 1L8.5 8.5l.94-2.06 2.06-.94-2.06-.94L8.5 2.5l-.94 2.06-2.06.94zm10 10l.94 2.06.94-2.06 2.06-.94-2.06-.94-.94-2.06-.94 2.06-2.06.94z\"/><path d=\"M17.41 7.96l-1.37-1.37c-.4-.4-.92-.59-1.43-.59-.52 0-1.04.2-1.43.59L10.3 9.45l-7.72 7.72c-.78.78-.78 2.05 0 2.83L4 21.41c.39.39.9.59 1.41.59.51 0 1.02-.2 1.41-.59l7.78-7.78 2.81-2.81c.8-.78.8-2.07 0-2.86zM5.41 20L4 18.59l7.72-7.72 1.47 1.35L5.41 20z\"/>\n",
              "  </svg>\n",
              "      </button>\n",
              "      \n",
              "  <style>\n",
              "    .colab-df-container {\n",
              "      display:flex;\n",
              "      flex-wrap:wrap;\n",
              "      gap: 12px;\n",
              "    }\n",
              "\n",
              "    .colab-df-convert {\n",
              "      background-color: #E8F0FE;\n",
              "      border: none;\n",
              "      border-radius: 50%;\n",
              "      cursor: pointer;\n",
              "      display: none;\n",
              "      fill: #1967D2;\n",
              "      height: 32px;\n",
              "      padding: 0 0 0 0;\n",
              "      width: 32px;\n",
              "    }\n",
              "\n",
              "    .colab-df-convert:hover {\n",
              "      background-color: #E2EBFA;\n",
              "      box-shadow: 0px 1px 2px rgba(60, 64, 67, 0.3), 0px 1px 3px 1px rgba(60, 64, 67, 0.15);\n",
              "      fill: #174EA6;\n",
              "    }\n",
              "\n",
              "    [theme=dark] .colab-df-convert {\n",
              "      background-color: #3B4455;\n",
              "      fill: #D2E3FC;\n",
              "    }\n",
              "\n",
              "    [theme=dark] .colab-df-convert:hover {\n",
              "      background-color: #434B5C;\n",
              "      box-shadow: 0px 1px 3px 1px rgba(0, 0, 0, 0.15);\n",
              "      filter: drop-shadow(0px 1px 2px rgba(0, 0, 0, 0.3));\n",
              "      fill: #FFFFFF;\n",
              "    }\n",
              "  </style>\n",
              "\n",
              "      <script>\n",
              "        const buttonEl =\n",
              "          document.querySelector('#df-bbee0acb-cf80-4cd6-965c-cf47bcd53a3d button.colab-df-convert');\n",
              "        buttonEl.style.display =\n",
              "          google.colab.kernel.accessAllowed ? 'block' : 'none';\n",
              "\n",
              "        async function convertToInteractive(key) {\n",
              "          const element = document.querySelector('#df-bbee0acb-cf80-4cd6-965c-cf47bcd53a3d');\n",
              "          const dataTable =\n",
              "            await google.colab.kernel.invokeFunction('convertToInteractive',\n",
              "                                                     [key], {});\n",
              "          if (!dataTable) return;\n",
              "\n",
              "          const docLinkHtml = 'Like what you see? Visit the ' +\n",
              "            '<a target=\"_blank\" href=https://colab.research.google.com/notebooks/data_table.ipynb>data table notebook</a>'\n",
              "            + ' to learn more about interactive tables.';\n",
              "          element.innerHTML = '';\n",
              "          dataTable['output_type'] = 'display_data';\n",
              "          await google.colab.output.renderOutput(dataTable, element);\n",
              "          const docLink = document.createElement('div');\n",
              "          docLink.innerHTML = docLinkHtml;\n",
              "          element.appendChild(docLink);\n",
              "        }\n",
              "      </script>\n",
              "    </div>\n",
              "  </div>\n",
              "  "
            ]
          },
          "metadata": {},
          "execution_count": 2
        }
      ],
      "source": [
        "df_merged.head()"
      ]
    },
    {
      "cell_type": "code",
      "execution_count": null,
      "metadata": {
        "id": "KCAmbO21V6Yi"
      },
      "outputs": [],
      "source": [
        "import pandas as pd\n",
        "!pip install -U -q PyDrive\n",
        "from pydrive.auth import GoogleAuth\n",
        "from pydrive.drive import GoogleDrive\n",
        "from google.colab import auth\n",
        "from oauth2client.client import GoogleCredentials\n",
        "auth.authenticate_user()\n",
        "gauth = GoogleAuth()\n",
        "gauth.credentials = GoogleCredentials.get_application_default()\n",
        "drive = GoogleDrive(gauth)\n",
        "link = 'https://drive.google.com/file/d/1PxkXxy_KefAnJe-ISOssBxyGH07T64PB/view?usp=sharing'\n",
        "\n",
        "id = link.split(\"/\")[-2]\n",
        "\n",
        "downloaded = drive.CreateFile({'id':id})\n",
        "downloaded.GetContentFile('radio_code_df_2.csv')\n",
        "\n",
        "df_radio_code = pd.read_csv('radio_code_df_2.csv')"
      ]
    },
    {
      "cell_type": "code",
      "execution_count": null,
      "metadata": {
        "id": "TItis7KHXm7-"
      },
      "outputs": [],
      "source": [
        "df_radio_code.set_index(\"Unnamed: 0\",inplace=True)"
      ]
    },
    {
      "cell_type": "code",
      "execution_count": null,
      "metadata": {
        "colab": {
          "base_uri": "https://localhost:8080/",
          "height": 394
        },
        "id": "uLnzOTXKXymM",
        "outputId": "8c79d406-e67f-4cdc-f2c5-a4b18b98c1f3"
      },
      "outputs": [
        {
          "output_type": "execute_result",
          "data": {
            "text/plain": [
              "                      TYP_DESC\n",
              "Unnamed: 0                    \n",
              "22Q2                   larceny\n",
              "29H1                harassment\n",
              "29Q1                     other\n",
              "39T1               Trespassing\n",
              "20R                    robbery\n",
              "53D                    Dispute\n",
              "24Q2                   Assault\n",
              "50G2        Disorderly Conduct\n",
              "10S2                  Shooting\n",
              "33                   Explosion"
            ],
            "text/html": [
              "\n",
              "  <div id=\"df-8c92f9b9-34eb-4b1e-89a2-4d41648ed1a0\">\n",
              "    <div class=\"colab-df-container\">\n",
              "      <div>\n",
              "<style scoped>\n",
              "    .dataframe tbody tr th:only-of-type {\n",
              "        vertical-align: middle;\n",
              "    }\n",
              "\n",
              "    .dataframe tbody tr th {\n",
              "        vertical-align: top;\n",
              "    }\n",
              "\n",
              "    .dataframe thead th {\n",
              "        text-align: right;\n",
              "    }\n",
              "</style>\n",
              "<table border=\"1\" class=\"dataframe\">\n",
              "  <thead>\n",
              "    <tr style=\"text-align: right;\">\n",
              "      <th></th>\n",
              "      <th>TYP_DESC</th>\n",
              "    </tr>\n",
              "    <tr>\n",
              "      <th>Unnamed: 0</th>\n",
              "      <th></th>\n",
              "    </tr>\n",
              "  </thead>\n",
              "  <tbody>\n",
              "    <tr>\n",
              "      <th>22Q2</th>\n",
              "      <td>larceny</td>\n",
              "    </tr>\n",
              "    <tr>\n",
              "      <th>29H1</th>\n",
              "      <td>harassment</td>\n",
              "    </tr>\n",
              "    <tr>\n",
              "      <th>29Q1</th>\n",
              "      <td>other</td>\n",
              "    </tr>\n",
              "    <tr>\n",
              "      <th>39T1</th>\n",
              "      <td>Trespassing</td>\n",
              "    </tr>\n",
              "    <tr>\n",
              "      <th>20R</th>\n",
              "      <td>robbery</td>\n",
              "    </tr>\n",
              "    <tr>\n",
              "      <th>53D</th>\n",
              "      <td>Dispute</td>\n",
              "    </tr>\n",
              "    <tr>\n",
              "      <th>24Q2</th>\n",
              "      <td>Assault</td>\n",
              "    </tr>\n",
              "    <tr>\n",
              "      <th>50G2</th>\n",
              "      <td>Disorderly Conduct</td>\n",
              "    </tr>\n",
              "    <tr>\n",
              "      <th>10S2</th>\n",
              "      <td>Shooting</td>\n",
              "    </tr>\n",
              "    <tr>\n",
              "      <th>33</th>\n",
              "      <td>Explosion</td>\n",
              "    </tr>\n",
              "  </tbody>\n",
              "</table>\n",
              "</div>\n",
              "      <button class=\"colab-df-convert\" onclick=\"convertToInteractive('df-8c92f9b9-34eb-4b1e-89a2-4d41648ed1a0')\"\n",
              "              title=\"Convert this dataframe to an interactive table.\"\n",
              "              style=\"display:none;\">\n",
              "        \n",
              "  <svg xmlns=\"http://www.w3.org/2000/svg\" height=\"24px\"viewBox=\"0 0 24 24\"\n",
              "       width=\"24px\">\n",
              "    <path d=\"M0 0h24v24H0V0z\" fill=\"none\"/>\n",
              "    <path d=\"M18.56 5.44l.94 2.06.94-2.06 2.06-.94-2.06-.94-.94-2.06-.94 2.06-2.06.94zm-11 1L8.5 8.5l.94-2.06 2.06-.94-2.06-.94L8.5 2.5l-.94 2.06-2.06.94zm10 10l.94 2.06.94-2.06 2.06-.94-2.06-.94-.94-2.06-.94 2.06-2.06.94z\"/><path d=\"M17.41 7.96l-1.37-1.37c-.4-.4-.92-.59-1.43-.59-.52 0-1.04.2-1.43.59L10.3 9.45l-7.72 7.72c-.78.78-.78 2.05 0 2.83L4 21.41c.39.39.9.59 1.41.59.51 0 1.02-.2 1.41-.59l7.78-7.78 2.81-2.81c.8-.78.8-2.07 0-2.86zM5.41 20L4 18.59l7.72-7.72 1.47 1.35L5.41 20z\"/>\n",
              "  </svg>\n",
              "      </button>\n",
              "      \n",
              "  <style>\n",
              "    .colab-df-container {\n",
              "      display:flex;\n",
              "      flex-wrap:wrap;\n",
              "      gap: 12px;\n",
              "    }\n",
              "\n",
              "    .colab-df-convert {\n",
              "      background-color: #E8F0FE;\n",
              "      border: none;\n",
              "      border-radius: 50%;\n",
              "      cursor: pointer;\n",
              "      display: none;\n",
              "      fill: #1967D2;\n",
              "      height: 32px;\n",
              "      padding: 0 0 0 0;\n",
              "      width: 32px;\n",
              "    }\n",
              "\n",
              "    .colab-df-convert:hover {\n",
              "      background-color: #E2EBFA;\n",
              "      box-shadow: 0px 1px 2px rgba(60, 64, 67, 0.3), 0px 1px 3px 1px rgba(60, 64, 67, 0.15);\n",
              "      fill: #174EA6;\n",
              "    }\n",
              "\n",
              "    [theme=dark] .colab-df-convert {\n",
              "      background-color: #3B4455;\n",
              "      fill: #D2E3FC;\n",
              "    }\n",
              "\n",
              "    [theme=dark] .colab-df-convert:hover {\n",
              "      background-color: #434B5C;\n",
              "      box-shadow: 0px 1px 3px 1px rgba(0, 0, 0, 0.15);\n",
              "      filter: drop-shadow(0px 1px 2px rgba(0, 0, 0, 0.3));\n",
              "      fill: #FFFFFF;\n",
              "    }\n",
              "  </style>\n",
              "\n",
              "      <script>\n",
              "        const buttonEl =\n",
              "          document.querySelector('#df-8c92f9b9-34eb-4b1e-89a2-4d41648ed1a0 button.colab-df-convert');\n",
              "        buttonEl.style.display =\n",
              "          google.colab.kernel.accessAllowed ? 'block' : 'none';\n",
              "\n",
              "        async function convertToInteractive(key) {\n",
              "          const element = document.querySelector('#df-8c92f9b9-34eb-4b1e-89a2-4d41648ed1a0');\n",
              "          const dataTable =\n",
              "            await google.colab.kernel.invokeFunction('convertToInteractive',\n",
              "                                                     [key], {});\n",
              "          if (!dataTable) return;\n",
              "\n",
              "          const docLinkHtml = 'Like what you see? Visit the ' +\n",
              "            '<a target=\"_blank\" href=https://colab.research.google.com/notebooks/data_table.ipynb>data table notebook</a>'\n",
              "            + ' to learn more about interactive tables.';\n",
              "          element.innerHTML = '';\n",
              "          dataTable['output_type'] = 'display_data';\n",
              "          await google.colab.output.renderOutput(dataTable, element);\n",
              "          const docLink = document.createElement('div');\n",
              "          docLink.innerHTML = docLinkHtml;\n",
              "          element.appendChild(docLink);\n",
              "        }\n",
              "      </script>\n",
              "    </div>\n",
              "  </div>\n",
              "  "
            ]
          },
          "metadata": {},
          "execution_count": 5
        }
      ],
      "source": [
        "df_radio_code"
      ]
    },
    {
      "cell_type": "code",
      "execution_count": null,
      "metadata": {
        "colab": {
          "base_uri": "https://localhost:8080/",
          "height": 374
        },
        "id": "Nt9I_W6HHE6N",
        "outputId": "2a02985d-2dbb-4644-a49a-a21ff5930b72"
      },
      "outputs": [
        {
          "output_type": "execute_result",
          "data": {
            "text/plain": [
              "        CAD_EVNT_ID RADIO_CODE            ARRIVD_TS   Latitude  Longitude  \\\n",
              "500450     79014233       24Q2  2021-08-10 19:37:19  40.694553 -73.898867   \n",
              "500451     79499944        53D  2021-08-31 23:02:14  40.745196 -73.927784   \n",
              "500452     77725606       22Q2  2021-06-17 12:36:03  40.745631 -73.998248   \n",
              "500453     77969063       22Q2  2021-06-27 12:10:14  40.823500 -73.858619   \n",
              "500454     76309324       10S2  2021-04-17 22:16:39  40.820370 -73.938133   \n",
              "\n",
              "         INCIDENT_DATE_TIME  PATRL_BORO_NM_PATROL BORO BKLYN NORTH  \\\n",
              "500450  2021-08-10 19:21:35                                      0   \n",
              "500451  2021-08-31 21:34:16                                      0   \n",
              "500452  2021-06-17 12:08:21                                      0   \n",
              "500453  2021-06-27 12:04:29                                      0   \n",
              "500454  2021-04-17 22:15:40                                      0   \n",
              "\n",
              "        PATRL_BORO_NM_PATROL BORO BKLYN SOUTH  \\\n",
              "500450                                      0   \n",
              "500451                                      0   \n",
              "500452                                      0   \n",
              "500453                                      0   \n",
              "500454                                      0   \n",
              "\n",
              "        PATRL_BORO_NM_PATROL BORO BRONX  PATRL_BORO_NM_PATROL BORO MAN NORTH  \\\n",
              "500450                                0                                    0   \n",
              "500451                                0                                    0   \n",
              "500452                                0                                    0   \n",
              "500453                                1                                    0   \n",
              "500454                                0                                    1   \n",
              "\n",
              "        PATRL_BORO_NM_PATROL BORO MAN SOUTH  \\\n",
              "500450                                    0   \n",
              "500451                                    0   \n",
              "500452                                    1   \n",
              "500453                                    0   \n",
              "500454                                    0   \n",
              "\n",
              "        PATRL_BORO_NM_PATROL BORO QUEENS NORTH  \\\n",
              "500450                                       1   \n",
              "500451                                       1   \n",
              "500452                                       0   \n",
              "500453                                       0   \n",
              "500454                                       0   \n",
              "\n",
              "        PATRL_BORO_NM_PATROL BORO QUEENS SOUTH  \\\n",
              "500450                                       0   \n",
              "500451                                       0   \n",
              "500452                                       0   \n",
              "500453                                       0   \n",
              "500454                                       0   \n",
              "\n",
              "        PATRL_BORO_NM_PATROL BORO STATEN ISLAND  Labels  \n",
              "500450                                        0       8  \n",
              "500451                                        0       7  \n",
              "500452                                        0       0  \n",
              "500453                                        0       2  \n",
              "500454                                        0       7  "
            ],
            "text/html": [
              "\n",
              "  <div id=\"df-1f4376ab-edd0-4782-b956-9e77a8f88119\">\n",
              "    <div class=\"colab-df-container\">\n",
              "      <div>\n",
              "<style scoped>\n",
              "    .dataframe tbody tr th:only-of-type {\n",
              "        vertical-align: middle;\n",
              "    }\n",
              "\n",
              "    .dataframe tbody tr th {\n",
              "        vertical-align: top;\n",
              "    }\n",
              "\n",
              "    .dataframe thead th {\n",
              "        text-align: right;\n",
              "    }\n",
              "</style>\n",
              "<table border=\"1\" class=\"dataframe\">\n",
              "  <thead>\n",
              "    <tr style=\"text-align: right;\">\n",
              "      <th></th>\n",
              "      <th>CAD_EVNT_ID</th>\n",
              "      <th>RADIO_CODE</th>\n",
              "      <th>ARRIVD_TS</th>\n",
              "      <th>Latitude</th>\n",
              "      <th>Longitude</th>\n",
              "      <th>INCIDENT_DATE_TIME</th>\n",
              "      <th>PATRL_BORO_NM_PATROL BORO BKLYN NORTH</th>\n",
              "      <th>PATRL_BORO_NM_PATROL BORO BKLYN SOUTH</th>\n",
              "      <th>PATRL_BORO_NM_PATROL BORO BRONX</th>\n",
              "      <th>PATRL_BORO_NM_PATROL BORO MAN NORTH</th>\n",
              "      <th>PATRL_BORO_NM_PATROL BORO MAN SOUTH</th>\n",
              "      <th>PATRL_BORO_NM_PATROL BORO QUEENS NORTH</th>\n",
              "      <th>PATRL_BORO_NM_PATROL BORO QUEENS SOUTH</th>\n",
              "      <th>PATRL_BORO_NM_PATROL BORO STATEN ISLAND</th>\n",
              "      <th>Labels</th>\n",
              "    </tr>\n",
              "  </thead>\n",
              "  <tbody>\n",
              "    <tr>\n",
              "      <th>500450</th>\n",
              "      <td>79014233</td>\n",
              "      <td>24Q2</td>\n",
              "      <td>2021-08-10 19:37:19</td>\n",
              "      <td>40.694553</td>\n",
              "      <td>-73.898867</td>\n",
              "      <td>2021-08-10 19:21:35</td>\n",
              "      <td>0</td>\n",
              "      <td>0</td>\n",
              "      <td>0</td>\n",
              "      <td>0</td>\n",
              "      <td>0</td>\n",
              "      <td>1</td>\n",
              "      <td>0</td>\n",
              "      <td>0</td>\n",
              "      <td>8</td>\n",
              "    </tr>\n",
              "    <tr>\n",
              "      <th>500451</th>\n",
              "      <td>79499944</td>\n",
              "      <td>53D</td>\n",
              "      <td>2021-08-31 23:02:14</td>\n",
              "      <td>40.745196</td>\n",
              "      <td>-73.927784</td>\n",
              "      <td>2021-08-31 21:34:16</td>\n",
              "      <td>0</td>\n",
              "      <td>0</td>\n",
              "      <td>0</td>\n",
              "      <td>0</td>\n",
              "      <td>0</td>\n",
              "      <td>1</td>\n",
              "      <td>0</td>\n",
              "      <td>0</td>\n",
              "      <td>7</td>\n",
              "    </tr>\n",
              "    <tr>\n",
              "      <th>500452</th>\n",
              "      <td>77725606</td>\n",
              "      <td>22Q2</td>\n",
              "      <td>2021-06-17 12:36:03</td>\n",
              "      <td>40.745631</td>\n",
              "      <td>-73.998248</td>\n",
              "      <td>2021-06-17 12:08:21</td>\n",
              "      <td>0</td>\n",
              "      <td>0</td>\n",
              "      <td>0</td>\n",
              "      <td>0</td>\n",
              "      <td>1</td>\n",
              "      <td>0</td>\n",
              "      <td>0</td>\n",
              "      <td>0</td>\n",
              "      <td>0</td>\n",
              "    </tr>\n",
              "    <tr>\n",
              "      <th>500453</th>\n",
              "      <td>77969063</td>\n",
              "      <td>22Q2</td>\n",
              "      <td>2021-06-27 12:10:14</td>\n",
              "      <td>40.823500</td>\n",
              "      <td>-73.858619</td>\n",
              "      <td>2021-06-27 12:04:29</td>\n",
              "      <td>0</td>\n",
              "      <td>0</td>\n",
              "      <td>1</td>\n",
              "      <td>0</td>\n",
              "      <td>0</td>\n",
              "      <td>0</td>\n",
              "      <td>0</td>\n",
              "      <td>0</td>\n",
              "      <td>2</td>\n",
              "    </tr>\n",
              "    <tr>\n",
              "      <th>500454</th>\n",
              "      <td>76309324</td>\n",
              "      <td>10S2</td>\n",
              "      <td>2021-04-17 22:16:39</td>\n",
              "      <td>40.820370</td>\n",
              "      <td>-73.938133</td>\n",
              "      <td>2021-04-17 22:15:40</td>\n",
              "      <td>0</td>\n",
              "      <td>0</td>\n",
              "      <td>0</td>\n",
              "      <td>1</td>\n",
              "      <td>0</td>\n",
              "      <td>0</td>\n",
              "      <td>0</td>\n",
              "      <td>0</td>\n",
              "      <td>7</td>\n",
              "    </tr>\n",
              "  </tbody>\n",
              "</table>\n",
              "</div>\n",
              "      <button class=\"colab-df-convert\" onclick=\"convertToInteractive('df-1f4376ab-edd0-4782-b956-9e77a8f88119')\"\n",
              "              title=\"Convert this dataframe to an interactive table.\"\n",
              "              style=\"display:none;\">\n",
              "        \n",
              "  <svg xmlns=\"http://www.w3.org/2000/svg\" height=\"24px\"viewBox=\"0 0 24 24\"\n",
              "       width=\"24px\">\n",
              "    <path d=\"M0 0h24v24H0V0z\" fill=\"none\"/>\n",
              "    <path d=\"M18.56 5.44l.94 2.06.94-2.06 2.06-.94-2.06-.94-.94-2.06-.94 2.06-2.06.94zm-11 1L8.5 8.5l.94-2.06 2.06-.94-2.06-.94L8.5 2.5l-.94 2.06-2.06.94zm10 10l.94 2.06.94-2.06 2.06-.94-2.06-.94-.94-2.06-.94 2.06-2.06.94z\"/><path d=\"M17.41 7.96l-1.37-1.37c-.4-.4-.92-.59-1.43-.59-.52 0-1.04.2-1.43.59L10.3 9.45l-7.72 7.72c-.78.78-.78 2.05 0 2.83L4 21.41c.39.39.9.59 1.41.59.51 0 1.02-.2 1.41-.59l7.78-7.78 2.81-2.81c.8-.78.8-2.07 0-2.86zM5.41 20L4 18.59l7.72-7.72 1.47 1.35L5.41 20z\"/>\n",
              "  </svg>\n",
              "      </button>\n",
              "      \n",
              "  <style>\n",
              "    .colab-df-container {\n",
              "      display:flex;\n",
              "      flex-wrap:wrap;\n",
              "      gap: 12px;\n",
              "    }\n",
              "\n",
              "    .colab-df-convert {\n",
              "      background-color: #E8F0FE;\n",
              "      border: none;\n",
              "      border-radius: 50%;\n",
              "      cursor: pointer;\n",
              "      display: none;\n",
              "      fill: #1967D2;\n",
              "      height: 32px;\n",
              "      padding: 0 0 0 0;\n",
              "      width: 32px;\n",
              "    }\n",
              "\n",
              "    .colab-df-convert:hover {\n",
              "      background-color: #E2EBFA;\n",
              "      box-shadow: 0px 1px 2px rgba(60, 64, 67, 0.3), 0px 1px 3px 1px rgba(60, 64, 67, 0.15);\n",
              "      fill: #174EA6;\n",
              "    }\n",
              "\n",
              "    [theme=dark] .colab-df-convert {\n",
              "      background-color: #3B4455;\n",
              "      fill: #D2E3FC;\n",
              "    }\n",
              "\n",
              "    [theme=dark] .colab-df-convert:hover {\n",
              "      background-color: #434B5C;\n",
              "      box-shadow: 0px 1px 3px 1px rgba(0, 0, 0, 0.15);\n",
              "      filter: drop-shadow(0px 1px 2px rgba(0, 0, 0, 0.3));\n",
              "      fill: #FFFFFF;\n",
              "    }\n",
              "  </style>\n",
              "\n",
              "      <script>\n",
              "        const buttonEl =\n",
              "          document.querySelector('#df-1f4376ab-edd0-4782-b956-9e77a8f88119 button.colab-df-convert');\n",
              "        buttonEl.style.display =\n",
              "          google.colab.kernel.accessAllowed ? 'block' : 'none';\n",
              "\n",
              "        async function convertToInteractive(key) {\n",
              "          const element = document.querySelector('#df-1f4376ab-edd0-4782-b956-9e77a8f88119');\n",
              "          const dataTable =\n",
              "            await google.colab.kernel.invokeFunction('convertToInteractive',\n",
              "                                                     [key], {});\n",
              "          if (!dataTable) return;\n",
              "\n",
              "          const docLinkHtml = 'Like what you see? Visit the ' +\n",
              "            '<a target=\"_blank\" href=https://colab.research.google.com/notebooks/data_table.ipynb>data table notebook</a>'\n",
              "            + ' to learn more about interactive tables.';\n",
              "          element.innerHTML = '';\n",
              "          dataTable['output_type'] = 'display_data';\n",
              "          await google.colab.output.renderOutput(dataTable, element);\n",
              "          const docLink = document.createElement('div');\n",
              "          docLink.innerHTML = docLinkHtml;\n",
              "          element.appendChild(docLink);\n",
              "        }\n",
              "      </script>\n",
              "    </div>\n",
              "  </div>\n",
              "  "
            ]
          },
          "metadata": {},
          "execution_count": 6
        }
      ],
      "source": [
        "df_merged.tail()"
      ]
    },
    {
      "cell_type": "code",
      "execution_count": null,
      "metadata": {
        "colab": {
          "base_uri": "https://localhost:8080/"
        },
        "id": "6iNiD6cmF-lx",
        "outputId": "c2725595-9bf4-4502-a3a9-1e9331bb5a1c"
      },
      "outputs": [
        {
          "output_type": "execute_result",
          "data": {
            "text/plain": [
              "500455"
            ]
          },
          "metadata": {},
          "execution_count": 7
        }
      ],
      "source": [
        "total_crimes=df_merged.shape[0]\n",
        "total_crimes"
      ]
    },
    {
      "cell_type": "code",
      "execution_count": null,
      "metadata": {
        "id": "LacgP3VLNyMp"
      },
      "outputs": [],
      "source": [
        "#delete later"
      ]
    },
    {
      "cell_type": "code",
      "execution_count": null,
      "metadata": {
        "colab": {
          "base_uri": "https://localhost:8080/"
        },
        "id": "UPLjqALwNyQF",
        "outputId": "23f79306-5b3b-4e6f-d78a-85d04e366de4"
      },
      "outputs": [
        {
          "output_type": "execute_result",
          "data": {
            "text/plain": [
              "['apple', 'mango', 'banana', 'grapes']"
            ]
          },
          "metadata": {},
          "execution_count": 9
        }
      ],
      "source": [
        "list1=['apple','mango','banana','grapes']\n",
        "pd.DataFrame(list1).to_csv('list1.csv')\n",
        "list(pd.read_csv('list1.csv')['0'])\n"
      ]
    },
    {
      "cell_type": "code",
      "execution_count": null,
      "metadata": {
        "id": "YFrd_Z5XNyRj"
      },
      "outputs": [],
      "source": [
        "#delete later"
      ]
    },
    {
      "cell_type": "markdown",
      "metadata": {
        "id": "cXc1jqlzHYW_"
      },
      "source": [
        "**TO-DO**\n",
        "1. Find the most occuring radio codes (top 3) in each cluster.\n",
        "2. Find the time of day when maximum crimes occur in each cluster\n",
        "3. Assign an area name to each cluster\n",
        "4. Time between crime added to system and the time at which unit arrived"
      ]
    },
    {
      "cell_type": "markdown",
      "metadata": {
        "id": "KNSY22GikdYe"
      },
      "source": [
        "**0. No. of crimes in each cluster**"
      ]
    },
    {
      "cell_type": "code",
      "execution_count": null,
      "metadata": {
        "colab": {
          "base_uri": "https://localhost:8080/"
        },
        "id": "yOE6zQ2Bkb4z",
        "outputId": "3fe47f97-1787-4f88-e0c6-188e53e0f884"
      },
      "outputs": [
        {
          "output_type": "stream",
          "name": "stdout",
          "text": [
            "No. of crimes in cluster  1 :  90771\n",
            "percent of crimes in cluster  0 :  18\n",
            "\n",
            "No. of crimes in cluster  2 :  42578\n",
            "percent of crimes in cluster  1 :  8\n",
            "\n",
            "No. of crimes in cluster  3 :  38762\n",
            "percent of crimes in cluster  2 :  7\n",
            "\n",
            "No. of crimes in cluster  4 :  50522\n",
            "percent of crimes in cluster  3 :  10\n",
            "\n",
            "No. of crimes in cluster  5 :  79555\n",
            "percent of crimes in cluster  4 :  15\n",
            "\n",
            "No. of crimes in cluster  6 :  18589\n",
            "percent of crimes in cluster  5 :  3\n",
            "\n",
            "No. of crimes in cluster  7 :  36600\n",
            "percent of crimes in cluster  6 :  7\n",
            "\n",
            "No. of crimes in cluster  8 :  61782\n",
            "percent of crimes in cluster  7 :  12\n",
            "\n",
            "No. of crimes in cluster  9 :  74266\n",
            "percent of crimes in cluster  8 :  14\n",
            "\n",
            "No. of crimes in cluster  10 :  7030\n",
            "percent of crimes in cluster  9 :  1\n",
            "\n"
          ]
        }
      ],
      "source": [
        "df_groupby_labels = df_merged.groupby('Labels')\n",
        "for i in range(0,10):\n",
        "  temp = df_groupby_labels.get_group(i)\n",
        "  print('No. of crimes in cluster ',i+1,': ',len(temp) )\n",
        "  print('percent of crimes in cluster ',i,': ',int((len(temp)/total_crimes)*100 ))\n",
        "  print()"
      ]
    },
    {
      "cell_type": "markdown",
      "metadata": {
        "id": "LiYE8243NWac"
      },
      "source": [
        "**1. Find the most occuring radio codes (top 3) in each cluster.**"
      ]
    },
    {
      "cell_type": "code",
      "execution_count": null,
      "metadata": {
        "id": "Z06jCc2-HTqn"
      },
      "outputs": [],
      "source": [
        "df_groupby_labels = df_merged.groupby('Labels')"
      ]
    },
    {
      "cell_type": "code",
      "execution_count": null,
      "metadata": {
        "colab": {
          "base_uri": "https://localhost:8080/"
        },
        "id": "EELSS_WzEI6E",
        "outputId": "b5381b13-f879-4601-b191-77760271a937"
      },
      "outputs": [
        {
          "output_type": "execute_result",
          "data": {
            "text/plain": [
              "500455"
            ]
          },
          "metadata": {},
          "execution_count": 13
        }
      ],
      "source": [
        "len(df_merged)"
      ]
    },
    {
      "cell_type": "code",
      "execution_count": null,
      "metadata": {
        "colab": {
          "base_uri": "https://localhost:8080/"
        },
        "id": "OsBVRZ318ORh",
        "outputId": "b4b3902a-938f-4dc8-faf5-3c068639ed26"
      },
      "outputs": [
        {
          "output_type": "execute_result",
          "data": {
            "text/plain": [
              "18"
            ]
          },
          "metadata": {},
          "execution_count": 14
        }
      ],
      "source": [
        "int((len(df_groupby_labels.get_group(0))/len(df_merged))*100)"
      ]
    },
    {
      "cell_type": "code",
      "execution_count": null,
      "metadata": {
        "colab": {
          "base_uri": "https://localhost:8080/"
        },
        "id": "wkHVXVRhZvGy",
        "outputId": "167d177c-d009-4f15-9273-0ac600cdae83"
      },
      "outputs": [
        {
          "output_type": "stream",
          "name": "stdout",
          "text": [
            "Enter category number:1\n",
            "53D     12724\n",
            "20R      7945\n",
            "22Q2     5622\n",
            "29H1     4901\n",
            "50G2     3729\n",
            "24Q2     3398\n",
            "29Q1     3101\n",
            "10S2      592\n",
            "39T1      550\n",
            "33         16\n",
            "Name: RADIO_CODE, dtype: int64\n",
            "1.  TYP_DESC    Dispute\n",
            "Name: 53D, dtype: object\n",
            "2.  TYP_DESC    robbery\n",
            "Name: 20R, dtype: object\n",
            "3.  TYP_DESC    larceny\n",
            "Name: 22Q2, dtype: object\n"
          ]
        }
      ],
      "source": [
        "i = int(input(\"Enter category number:\"))\n",
        "temp = df_groupby_labels.get_group(i)\n",
        "vc = temp[\"RADIO_CODE\"].value_counts()[:3]\n",
        "print(temp[\"RADIO_CODE\"].value_counts())\n",
        "first_crime = df_radio_code.loc[vc.index[0]]\n",
        "second_crime = df_radio_code.loc[vc.index[1]]\n",
        "third_crime = df_radio_code.loc[vc.index[2]]\n",
        "print(\"1. \",first_crime)\n",
        "print(\"2. \",second_crime)\n",
        "print(\"3. \",third_crime)"
      ]
    },
    {
      "cell_type": "code",
      "execution_count": null,
      "metadata": {
        "colab": {
          "base_uri": "https://localhost:8080/"
        },
        "id": "eiafDPdWrbWz",
        "outputId": "13620bd9-23f7-4190-bce0-50db082571d1"
      },
      "outputs": [
        {
          "output_type": "stream",
          "name": "stdout",
          "text": [
            "21\n"
          ]
        }
      ],
      "source": [
        "import geopy.distance\n",
        "\n",
        "coords_1=(max(temp['Latitude']),max(temp['Longitude']))\n",
        "coords_2=(min(temp['Latitude']),min(temp['Longitude']))\n",
        "\n",
        "print(round(geopy.distance.geodesic(coords_1, coords_2).km))"
      ]
    },
    {
      "cell_type": "code",
      "execution_count": null,
      "metadata": {
        "colab": {
          "base_uri": "https://localhost:8080/"
        },
        "id": "nTq2zIrGyQLu",
        "outputId": "2e7a78af-8e4b-483f-fe75-8bf360f7c3d9"
      },
      "outputs": [
        {
          "output_type": "stream",
          "name": "stdout",
          "text": [
            "20.513145171657815\n"
          ]
        }
      ],
      "source": [
        "import geopy.distance\n",
        "vertical_lat_1=max(temp['Latitude'])\n",
        "vertical_long_1=float(temp[temp['Latitude']==max(temp['Latitude'])].head(1)['Longitude'])\n",
        "vertical_lat_2=min(temp['Latitude'])\n",
        "vertical_long_2=float(temp[temp['Latitude']==min(temp['Latitude'])].head(1)['Longitude'])\n",
        "vertical_coords_1=(vertical_lat_1,vertical_long_1)\n",
        "vertical_coords_2=(vertical_lat_2,vertical_long_2)\n",
        "print(geopy.distance.geodesic(coords_1, coords_2).km)"
      ]
    },
    {
      "cell_type": "code",
      "execution_count": null,
      "metadata": {
        "id": "VTUyA-2v0_v9",
        "colab": {
          "base_uri": "https://localhost:8080/"
        },
        "outputId": "69066fb8-03ee-4127-d681-535f920718b3"
      },
      "outputs": [
        {
          "output_type": "stream",
          "name": "stdout",
          "text": [
            "20.513145171657815\n"
          ]
        }
      ],
      "source": [
        "horizontal_lat_1=float(temp[temp['Longitude']==min(temp['Longitude'])].head(1)['Latitude'])\n",
        "horizontal_long_1=min(temp['Longitude'])\n",
        "horizontal_lat_2=float(temp[temp['Longitude']==max(temp['Longitude'])].head(1)['Latitude'])\n",
        "horizontal_long_2=max(temp['Longitude'])\n",
        "horizontal_coords_1=(horizontal_lat_1,horizontal_long_1)\n",
        "horizontal_coords_2=(horizontal_lat_2,horizontal_long_2)\n",
        "print(geopy.distance.geodesic(coords_1, coords_2).km)"
      ]
    },
    {
      "cell_type": "code",
      "execution_count": null,
      "metadata": {
        "colab": {
          "base_uri": "https://localhost:8080/"
        },
        "id": "agDzMqsEBB-8",
        "outputId": "febafefb-d226-414f-b44f-8abb0a67719a"
      },
      "outputs": [
        {
          "output_type": "execute_result",
          "data": {
            "text/plain": [
              "12724"
            ]
          },
          "metadata": {},
          "execution_count": 19
        }
      ],
      "source": [
        "vc[0]"
      ]
    },
    {
      "cell_type": "code",
      "execution_count": null,
      "metadata": {
        "colab": {
          "base_uri": "https://localhost:8080/",
          "height": 35
        },
        "id": "Q5NhOe5585Q8",
        "outputId": "d19a2f91-2c93-4c07-acb6-a1a886d02826"
      },
      "outputs": [
        {
          "output_type": "execute_result",
          "data": {
            "text/plain": [
              "'Dispute'"
            ],
            "application/vnd.google.colaboratory.intrinsic+json": {
              "type": "string"
            }
          },
          "metadata": {},
          "execution_count": 20
        }
      ],
      "source": [
        "df_radio_code.loc[vc.index[0]]['TYP_DESC']\n"
      ]
    },
    {
      "cell_type": "code",
      "execution_count": null,
      "metadata": {
        "colab": {
          "base_uri": "https://localhost:8080/"
        },
        "id": "7xr9mouYAL8K",
        "outputId": "5c3f5809-6ff8-4e0c-d151-2ad05540fdee"
      },
      "outputs": [
        {
          "output_type": "execute_result",
          "data": {
            "text/plain": [
              "TYP_DESC    larceny\n",
              "Name: 22Q2, dtype: object"
            ]
          },
          "metadata": {},
          "execution_count": 21
        }
      ],
      "source": [
        "df_radio_code.loc[vc.index[2]]"
      ]
    },
    {
      "cell_type": "markdown",
      "metadata": {
        "id": "p3KLXDcdbXfE"
      },
      "source": [
        "**3. Assign an area name to each cluster**"
      ]
    },
    {
      "cell_type": "code",
      "execution_count": null,
      "metadata": {
        "id": "qNbcd06FdLl4"
      },
      "outputs": [],
      "source": [
        "#pip install geopy\n",
        "from geopy.geocoders import Nominatim\n",
        "geolocator = Nominatim(user_agent=\"geoapiExercises\")\n"
      ]
    },
    {
      "cell_type": "code",
      "execution_count": null,
      "metadata": {
        "id": "a8CcLkNJZnTN"
      },
      "outputs": [],
      "source": [
        "df_groupby_labels = df_merged.groupby('Labels')"
      ]
    },
    {
      "cell_type": "code",
      "execution_count": null,
      "metadata": {
        "colab": {
          "base_uri": "https://localhost:8080/"
        },
        "id": "_JwviO0qFps0",
        "outputId": "64ae83d7-2cc0-4737-ccb1-42603730463d"
      },
      "outputs": [
        {
          "output_type": "execute_result",
          "data": {
            "text/plain": [
              "90771"
            ]
          },
          "metadata": {},
          "execution_count": 24
        }
      ],
      "source": [
        "len(df_groupby_labels.get_group(0))"
      ]
    },
    {
      "cell_type": "code",
      "execution_count": null,
      "metadata": {
        "id": "zAzAGhT7brwd",
        "colab": {
          "base_uri": "https://localhost:8080/"
        },
        "outputId": "f808da0b-a008-46cd-be7b-7edf175d218d"
      },
      "outputs": [
        {
          "output_type": "stream",
          "name": "stdout",
          "text": [
            "Cluster  1\n",
            "Public School 34, 730, East 12th Street, East Village, Manhattan Community Board 3, New York County, New York, 10009, United States\n",
            "Cluster  2\n",
            "190-29, McLaughlin Avenue, Queens, Queens County, New York, 11423, United States\n",
            "Cluster  3\n",
            "2212, Fenton Avenue, The Bronx, New York, 10469, United States\n",
            "Cluster  4\n",
            "1343, East 10th Street, Brooklyn, Kings County, New York, 11230, United States\n",
            "Cluster  5\n",
            "2010, Grand Avenue, The Bronx, New York, 10453, United States\n",
            "Cluster  6\n",
            "La Tourette Park Greenway, Staten Island, Richmond County, New York, 10314-3903, United States\n",
            "Cluster  7\n",
            "57-15, Waldron Street, Queens, Queens County, New York, 11368, United States\n",
            "Cluster  8\n",
            "9746, FDR Drive, East Harlem, Manhattan, New York County, New York, 10009, United States\n",
            "Cluster  9\n",
            "220, Thatford Avenue, Brooklyn, Kings County, New York, 11212, United States\n",
            "Cluster  10\n",
            "Somerville, Queens County, New York, 11692, United States\n"
          ]
        }
      ],
      "source": [
        "for i in range(0,10):\n",
        "  print('Cluster ',i+1)\n",
        "  temp = df_groupby_labels.get_group(i)\n",
        "  lat_max = temp[\"Latitude\"].max()\n",
        "  lat_min = temp[\"Latitude\"].min()\n",
        "  long_max = temp[\"Longitude\"].max()\n",
        "  long_min = temp[\"Longitude\"].min()\n",
        "  lat_mid = (lat_max+lat_min)/2\n",
        "  long_mid = (long_max+long_min)/2\n",
        "  location = geolocator.reverse(str(lat_mid) + \",\" + str(long_mid))\n",
        "\n",
        "  print(location)"
      ]
    },
    {
      "cell_type": "code",
      "execution_count": null,
      "metadata": {
        "id": "i5K1N7XFbrtC"
      },
      "outputs": [],
      "source": [
        "#entering area column in the dataset is left"
      ]
    },
    {
      "cell_type": "markdown",
      "metadata": {
        "id": "tOdbgbmupOA7"
      },
      "source": [
        "**4. Time between crime added to system and the time at which unit arrived**"
      ]
    },
    {
      "cell_type": "code",
      "execution_count": null,
      "metadata": {
        "id": "EUnud3X2brTI"
      },
      "outputs": [],
      "source": [
        "df_merged['INCIDENT_DATE_TIME'] = pd.to_datetime(df_merged['INCIDENT_DATE_TIME'])\n",
        "df_merged['ARRIVD_TS'] = pd.to_datetime(df_merged['ARRIVD_TS'])\n",
        "df_merged[\"Time_Difference\"] =  df_merged[\"ARRIVD_TS\"] - df_merged[\"INCIDENT_DATE_TIME\"]"
      ]
    },
    {
      "cell_type": "code",
      "execution_count": null,
      "metadata": {
        "id": "4dSroVABq6up",
        "colab": {
          "base_uri": "https://localhost:8080/"
        },
        "outputId": "e2bdc119-90a6-4c03-f26c-4cd9ae5b274a"
      },
      "outputs": [
        {
          "output_type": "execute_result",
          "data": {
            "text/plain": [
              "500450   0 days 00:15:44\n",
              "500451   0 days 01:27:58\n",
              "500452   0 days 00:27:42\n",
              "500453   0 days 00:05:45\n",
              "500454   0 days 00:00:59\n",
              "Name: Time_Difference, dtype: timedelta64[ns]"
            ]
          },
          "metadata": {},
          "execution_count": 28
        }
      ],
      "source": [
        "df_merged[\"Time_Difference\"].tail()"
      ]
    },
    {
      "cell_type": "code",
      "execution_count": null,
      "metadata": {
        "id": "Cco0tDJzrD9f"
      },
      "outputs": [],
      "source": [
        "df_groupby_labels = df_merged.groupby('Labels')"
      ]
    },
    {
      "cell_type": "code",
      "execution_count": null,
      "metadata": {
        "id": "qlJ5mxoKtsZl"
      },
      "outputs": [],
      "source": [
        "import datetime\n",
        "avg_time_diff = []\n",
        "categories = []\n",
        "for i in range(0,10):\n",
        "  categories.append(i)\n",
        "  temp = df_groupby_labels.get_group(i)\n",
        "\n",
        "  avg_time_diff.append((temp[\"Time_Difference\"].mean().total_seconds())/60)"
      ]
    },
    {
      "cell_type": "code",
      "execution_count": null,
      "metadata": {
        "id": "ZuZkhZNmuNoB",
        "colab": {
          "base_uri": "https://localhost:8080/",
          "height": 352
        },
        "outputId": "32c4e695-3d61-4976-9835-c5a1dff3ced4"
      },
      "outputs": [
        {
          "output_type": "execute_result",
          "data": {
            "text/plain": [
              "Text(0, 0.5, 'Response time (in minutes)')"
            ]
          },
          "metadata": {},
          "execution_count": 31
        },
        {
          "output_type": "display_data",
          "data": {
            "text/plain": [
              "<Figure size 576x360 with 1 Axes>"
            ],
            "image/png": "[encoded data removed]"
          },
          "metadata": {
            "needs_background": "light"
          }
        }
      ],
      "source": [
        "import matplotlib.pyplot as plt\n",
        "plt.figure(figsize=(8,5))\n",
        "plt.bar(x=categories,height=avg_time_diff)\n",
        "plt.xlabel('Category')\n",
        "plt.ylabel('Response time (in minutes)')"
      ]
    },
    {
      "cell_type": "code",
      "execution_count": null,
      "metadata": {
        "id": "JkTFeDEHmTU5",
        "colab": {
          "base_uri": "https://localhost:8080/"
        },
        "outputId": "cec9b9bb-f4a9-47f2-f934-8bf47663932e"
      },
      "outputs": [
        {
          "output_type": "execute_result",
          "data": {
            "text/plain": [
              "[24.932427150000002,\n",
              " 37.54398683333333,\n",
              " 56.40841553333333,\n",
              " 34.35358791666667,\n",
              " 51.22771295,\n",
              " 30.145895133333333,\n",
              " 41.291861450000006,\n",
              " 31.20788836666667,\n",
              " 35.72885566666666,\n",
              " 23.016661066666664]"
            ]
          },
          "metadata": {},
          "execution_count": 32
        }
      ],
      "source": [
        "avg_time_diff"
      ]
    }
  ],
  "metadata": {
    "colab": {
      "provenance": []
    },
    "kernelspec": {
      "display_name": "Python 3",
      "name": "python3"
    },
    "language_info": {
      "name": "python"
    }
  },
  "nbformat": 4,
  "nbformat_minor": 0
}